{
  "cells": [
    {
      "cell_type": "markdown",
      "metadata": {
        "id": "fcF-qmMtuUvE"
      },
      "source": [
        "# Introducción rápida a Python"
      ]
    },
    {
      "cell_type": "markdown",
      "metadata": {
        "id": "KY0oC5VuuUvH"
      },
      "source": [
        "\n",
        "Python es un lenguaje de alto nivel, multiparadigma y con tipado dinámico. En esta asignatura lo usaremos junto con los notebooks de Jupyter. Estos cuadernos nos permiten combinar texto y código, utilizando para ello celdas, lo cual es muy cómodo para probar cosas nuevas y documentar lo que hacemos (tanto explicar qué hace el código de la celda, como comentar el resultado de su ejecución).\n",
        "\n",
        "La forma tradicional de ejecutar un programa en python es con el comando `python nombre.py`, donde nombre.py es un archivo con código fuente python.\n",
        "\n",
        "Con los notebooks usaremos un servidor de Jupyter Notebook que correrá sobre nuestro ordenador y que ejecutará el código de Python. El servidor se arranca ejecutando el comando `jupyter notebook` desde la línea de comandos. Una vez que el servidor se está ejecutando y se abre el navegador, se puede elegir en el explorador de archivos, abrir un cuaderno existente o crear uno nuevo. \n",
        "\n",
        "### Uso de Cuadernos de Jupyter\n",
        "\n",
        "Dentro del cuaderno se escribe y ejecuta texto y código, y se puede salvar el estado de un cuaderno con ctrl+s en cualquier momento. Se guarda tanto el código como el resultado de las ejecuciones.\n",
        "\n",
        "Los cuadernos tienen dos tipos de celdas, de código y de texto. La celda que estás leyendo es una celda de texto escrita con [Markdown](https://www.markdownguide.org/basic-syntax/), un lenguaje de marcado muy popular que es parecido al que utiliza wikipedia para sus páginas.\n",
        "\n",
        "Las celdas de código son _ejecutables_, es decir, se pueden ejecutar individualmente (con `ctrl+enter` o desde el menu `Cell -> Run Cells`)\n",
        "\n",
        "Es importante tener en cuenta que el estado de las variables puede no ser obvio si no ejecutamos secuencialmente las celdas."
      ]
    },
    {
      "cell_type": "markdown",
      "metadata": {
        "id": "WcDqo-jWuUvH"
      },
      "source": [
        "## Expresiones y variables"
      ]
    },
    {
      "cell_type": "markdown",
      "metadata": {
        "id": "tRVovTX5uUvI"
      },
      "source": [
        "Las variables en python no necesitan ser declaradas, simplemente se definen al ser utilizadas por primera vez (tipado dinámico). \n",
        "\n",
        "Además, pueden cambiar de tipo, si se les asigna un valor de otro tipo, aunque no se recomienda hacerlo.\n"
      ]
    },
    {
      "cell_type": "code",
      "execution_count": null,
      "metadata": {
        "colab": {
          "base_uri": "https://localhost:8080/"
        },
        "id": "QzAnaAYxuUvI",
        "outputId": "516ddd0a-5a07-43e7-b983-d5477adbc03c"
      },
      "outputs": [
        {
          "output_type": "stream",
          "name": "stdout",
          "text": [
            "suma: 3\n",
            "resta: -1\n",
            "multiplicación: 2\n",
            "division: 0.5\n",
            "division entera: 0\n",
            "potencia: 1024\n"
          ]
        }
      ],
      "source": [
        "x = 1\n",
        "y = 2\n",
        "print('suma:', x + y)\n",
        "print('resta:', x - y)\n",
        "print('multiplicación:', x * y)\n",
        "print('division:', x / y)\n",
        "print('division entera:', x // y)\n",
        "print('potencia:', y ** 10)"
      ]
    },
    {
      "cell_type": "code",
      "execution_count": null,
      "metadata": {
        "colab": {
          "base_uri": "https://localhost:8080/"
        },
        "id": "cH86B8ApuUvJ",
        "outputId": "bd7584fe-3d67-4e37-de10-a356273c832a"
      },
      "outputs": [
        {
          "output_type": "execute_result",
          "data": {
            "text/plain": [
              "7"
            ]
          },
          "metadata": {},
          "execution_count": 2
        }
      ],
      "source": [
        "x = 5\n",
        "x += 2\n",
        "x  # El último valor de la celda se imprime por defecto"
      ]
    },
    {
      "cell_type": "code",
      "execution_count": null,
      "metadata": {
        "colab": {
          "base_uri": "https://localhost:8080/"
        },
        "id": "eeg9wppPuUvK",
        "outputId": "321e356b-4392-4c0a-9819-9d3b567768f7"
      },
      "outputs": [
        {
          "output_type": "stream",
          "name": "stdout",
          "text": [
            "ANTONIO\n",
            "juan tiene 21 años\n",
            "hola mundo!\n"
          ]
        }
      ],
      "source": [
        "# operaciones con cadenas\n",
        "mayusculas = 'antonio'.upper()\n",
        "print(mayusculas)\n",
        "cadena_datos = '{} tiene {} años'.format('juan', 21)\n",
        "print(cadena_datos)\n",
        "concatenar = 'hola' + ' ' + 'mundo!'\n",
        "print(concatenar)"
      ]
    },
    {
      "cell_type": "markdown",
      "metadata": {
        "id": "LspQRpWVuUvK"
      },
      "source": [
        "## Pedir datos por consola"
      ]
    },
    {
      "cell_type": "code",
      "execution_count": null,
      "metadata": {
        "colab": {
          "base_uri": "https://localhost:8080/"
        },
        "id": "roujueR8uUvK",
        "outputId": "1abcdbcd-7d8b-4865-fdd3-a6f590713415"
      },
      "outputs": [
        {
          "output_type": "stream",
          "name": "stdout",
          "text": [
            "Dime tu nombre:dd\n",
            "Dime un número entero:33\n",
            "Dime un número real:3.3\n",
            "Nombre: dd Entero: 33 Real: 3.3\n"
          ]
        }
      ],
      "source": [
        "nombre = input('Dime tu nombre:') # input siempre devuelve una cadena str()\n",
        "numero_entero = int(input('Dime un número entero:'))\n",
        "numero_real = float(input('Dime un número real:'))\n",
        "print('Nombre:', nombre, 'Entero:', numero_entero, 'Real:', numero_real)"
      ]
    },
    {
      "cell_type": "markdown",
      "metadata": {
        "id": "w9YDIqjbuUvL"
      },
      "source": [
        "## Condicionales"
      ]
    },
    {
      "cell_type": "markdown",
      "metadata": {
        "id": "K0SJw_LJuUvL"
      },
      "source": [
        "Python implementa los típicos operadores de comparación: `<,>,>=,<=,==,!=`\n",
        "\n",
        "Además cuenta con los operadores usuales de la lógica booleana, usando palabras en inglés (`and, or, not`) en lugar de símbolos (||, &&, !, etc)\n",
        "\n"
      ]
    },
    {
      "cell_type": "code",
      "execution_count": null,
      "metadata": {
        "colab": {
          "base_uri": "https://localhost:8080/"
        },
        "id": "gfCy_SpKuUvL",
        "outputId": "2e9f6dc7-1aaf-453b-cb77-2443c4c2f8c3"
      },
      "outputs": [
        {
          "output_type": "stream",
          "name": "stdout",
          "text": [
            "Divisible por 5\n"
          ]
        }
      ],
      "source": [
        "x = 25\n",
        "if x % 2 == 0:\n",
        "    print('Divisible por 2')\n",
        "elif x % 3 == 0:\n",
        "    print('Divisible por 3')\n",
        "elif x % 5 == 0:\n",
        "    print('Divisible por 5')\n",
        "else:\n",
        "    print('Ni idea')"
      ]
    },
    {
      "cell_type": "code",
      "execution_count": null,
      "metadata": {
        "colab": {
          "base_uri": "https://localhost:8080/"
        },
        "id": "rNzFM1-BuUvL",
        "outputId": "03c56582-4ceb-4895-a669-2c2fee1b2a6f"
      },
      "outputs": [
        {
          "output_type": "stream",
          "name": "stdout",
          "text": [
            "Introduce un año:3333\n",
            "no es bisiesto\n"
          ]
        }
      ],
      "source": [
        "# condiciones compuestas\n",
        "year = int(input('Introduce un año:'))\n",
        "if year % 400 == 0 or (year % 4 == 0 and year % 100 != 0):\n",
        "    print('bisiesto')\n",
        "else:\n",
        "    print('no es bisiesto')"
      ]
    },
    {
      "cell_type": "markdown",
      "metadata": {
        "id": "_xvZgJWHuUvM"
      },
      "source": [
        "## Bucles"
      ]
    },
    {
      "cell_type": "code",
      "execution_count": null,
      "metadata": {
        "colab": {
          "base_uri": "https://localhost:8080/"
        },
        "id": "d73o1ph_uUvM",
        "outputId": "2f95e235-4449-4b9b-92cf-c21000df4430"
      },
      "outputs": [
        {
          "output_type": "execute_result",
          "data": {
            "text/plain": [
              "55"
            ]
          },
          "metadata": {},
          "execution_count": 7
        }
      ],
      "source": [
        "suma = 0\n",
        "i = 1\n",
        "while i <= 10:\n",
        "    suma += i\n",
        "    i += 1\n",
        "suma"
      ]
    },
    {
      "cell_type": "markdown",
      "metadata": {
        "id": "VZmJXM4FuUvM"
      },
      "source": [
        "Una de las características distintivas de Python es el uso de sangrado para marcar bloques de código. \n",
        "\n",
        "Esto nos obliga a ser preciso a la hora de tabular nuestro código y a no mezclar tabuladores y espacios al programar en Python ya que esto puede generar un `TabError`.\n",
        "\n",
        "Además, debemos tener cuidado de usar siempre el mismo nivel de sangrado en el código que está al mismo nivel de anidamiento para evitar errores. "
      ]
    },
    {
      "cell_type": "code",
      "execution_count": null,
      "metadata": {
        "colab": {
          "base_uri": "https://localhost:8080/"
        },
        "id": "LA2NUcHZuUvM",
        "outputId": "c288b480-8779-4fa3-e34a-1592605b462d"
      },
      "outputs": [
        {
          "output_type": "execute_result",
          "data": {
            "text/plain": [
              "55"
            ]
          },
          "metadata": {},
          "execution_count": 8
        }
      ],
      "source": [
        "suma = 0\n",
        "i = 1\n",
        "while i <= 10:\n",
        "    suma += i\n",
        "    i += 1\n",
        "suma"
      ]
    },
    {
      "cell_type": "markdown",
      "metadata": {
        "id": "pWvp7w23uUvM"
      },
      "source": [
        "## Tuplas"
      ]
    },
    {
      "cell_type": "markdown",
      "metadata": {
        "id": "Jn5RpsyDuUvM"
      },
      "source": [
        "Las tuplas son secuencias que no se pueden modificar una vez creadas. Se crean con el operador `,` pero habitualmente también se escriben entre paréntesis."
      ]
    },
    {
      "cell_type": "code",
      "execution_count": null,
      "metadata": {
        "colab": {
          "base_uri": "https://localhost:8080/"
        },
        "id": "QMbHYvS5uUvN",
        "outputId": "5a443132-7bad-4c0d-b2a9-174c1bdb724d"
      },
      "outputs": [
        {
          "output_type": "stream",
          "name": "stdout",
          "text": [
            "(1, 2, 3)\n",
            "(4, 5, 6)\n"
          ]
        }
      ],
      "source": [
        "# El operador coma crea tuplas. Se pueden escribir o no entre paréntesis.\n",
        "a = 1, 2, 3\n",
        "print(a)\n",
        "b = (4, 5, 6)\n",
        "print(b)"
      ]
    },
    {
      "cell_type": "code",
      "execution_count": null,
      "metadata": {
        "colab": {
          "base_uri": "https://localhost:8080/"
        },
        "id": "UgZ3fg_6uUvN",
        "outputId": "8a864b39-5c85-4843-c8dc-4b0480eb339e"
      },
      "outputs": [
        {
          "output_type": "execute_result",
          "data": {
            "text/plain": [
              "1"
            ]
          },
          "metadata": {},
          "execution_count": 10
        }
      ],
      "source": [
        "# Se pueden leer sus componentes\n",
        "a[0]"
      ]
    },
    {
      "cell_type": "code",
      "execution_count": null,
      "metadata": {
        "colab": {
          "base_uri": "https://localhost:8080/",
          "height": 183
        },
        "id": "mdflVEt5uUvN",
        "outputId": "5eacfea1-ebf6-4e20-8dc6-b49634b11593"
      },
      "outputs": [
        {
          "output_type": "error",
          "ename": "TypeError",
          "evalue": "ignored",
          "traceback": [
            "\u001b[0;31m---------------------------------------------------------------------------\u001b[0m",
            "\u001b[0;31mTypeError\u001b[0m                                 Traceback (most recent call last)",
            "\u001b[0;32m<ipython-input-11-4aa5527db1ad>\u001b[0m in \u001b[0;36m<module>\u001b[0;34m\u001b[0m\n\u001b[1;32m      1\u001b[0m \u001b[0;31m# Las tuplas son inmutables.\u001b[0m\u001b[0;34m\u001b[0m\u001b[0;34m\u001b[0m\u001b[0;34m\u001b[0m\u001b[0m\n\u001b[0;32m----> 2\u001b[0;31m \u001b[0ma\u001b[0m\u001b[0;34m[\u001b[0m\u001b[0;36m0\u001b[0m\u001b[0;34m]\u001b[0m \u001b[0;34m=\u001b[0m \u001b[0;36m10\u001b[0m\u001b[0;34m\u001b[0m\u001b[0;34m\u001b[0m\u001b[0m\n\u001b[0m",
            "\u001b[0;31mTypeError\u001b[0m: 'tuple' object does not support item assignment"
          ]
        }
      ],
      "source": [
        "# Las tuplas son inmutables.\n",
        "a[0] = 10"
      ]
    },
    {
      "cell_type": "markdown",
      "metadata": {
        "id": "THKak3CcuUvN"
      },
      "source": [
        "Una de las operaciones más frecuentes con tuplas es la asignación múltiple. De hecho, como veremos más adelante, las funciones que devuelven varios valores en realidad devuelven una tupla."
      ]
    },
    {
      "cell_type": "code",
      "execution_count": null,
      "metadata": {
        "colab": {
          "base_uri": "https://localhost:8080/"
        },
        "id": "6gpNNCXcuUvN",
        "outputId": "f2f26360-d55e-499c-e831-0f40bd8b1a60"
      },
      "outputs": [
        {
          "output_type": "stream",
          "name": "stdout",
          "text": [
            "10\n",
            "20\n",
            "30\n"
          ]
        }
      ],
      "source": [
        "# La asignación entre tuplas asigna campo a campo.\n",
        "# (parece asignación múltiple pero es asignación entre tuplas)\n",
        "a, b, c = 10, 20, 30\n",
        "print(a)\n",
        "print(b)\n",
        "print(c)"
      ]
    },
    {
      "cell_type": "markdown",
      "metadata": {
        "id": "laWtRN9wuUvN"
      },
      "source": [
        "## Rangos"
      ]
    },
    {
      "cell_type": "code",
      "execution_count": null,
      "metadata": {
        "colab": {
          "base_uri": "https://localhost:8080/"
        },
        "id": "_0mrGrytuUvO",
        "outputId": "8718f0c6-ad2c-480a-af0d-2de98100636d"
      },
      "outputs": [
        {
          "output_type": "execute_result",
          "data": {
            "text/plain": [
              "range(1, 10)"
            ]
          },
          "metadata": {},
          "execution_count": 14
        }
      ],
      "source": [
        "range(1, 10) # Representa los números del 1 al 9"
      ]
    },
    {
      "cell_type": "code",
      "execution_count": null,
      "metadata": {
        "colab": {
          "base_uri": "https://localhost:8080/"
        },
        "id": "OpQkkmrLuUvO",
        "outputId": "ad420218-edfd-4256-aebd-08a56ccb8554"
      },
      "outputs": [
        {
          "output_type": "stream",
          "name": "stdout",
          "text": [
            "1\n",
            "2\n",
            "3\n",
            "4\n",
            "5\n",
            "6\n",
            "7\n",
            "8\n",
            "9\n"
          ]
        }
      ],
      "source": [
        "# los bucles for permiten recorrer estructuras de datos\n",
        "for x in range(1, 10):\n",
        "    print(x)"
      ]
    },
    {
      "cell_type": "code",
      "execution_count": null,
      "metadata": {
        "colab": {
          "base_uri": "https://localhost:8080/"
        },
        "id": "_5J8SqoBuUvO",
        "outputId": "1c3bc74e-ef9a-41e5-adfa-2e87524b78f3"
      },
      "outputs": [
        {
          "output_type": "stream",
          "name": "stdout",
          "text": [
            "1\n",
            "4\n",
            "7\n"
          ]
        }
      ],
      "source": [
        "# del 1 al 9 de 3 en 3\n",
        "for x in range(1, 10, 3): \n",
        "    print(x)"
      ]
    },
    {
      "cell_type": "code",
      "execution_count": null,
      "metadata": {
        "colab": {
          "base_uri": "https://localhost:8080/"
        },
        "id": "gS2zzJ8xuUvO",
        "outputId": "6bdeb54c-f68a-4511-d8ad-4028da3ac2aa"
      },
      "outputs": [
        {
          "output_type": "stream",
          "name": "stdout",
          "text": [
            "10\n",
            "9\n",
            "8\n",
            "7\n",
            "6\n",
            "5\n",
            "4\n",
            "3\n",
            "2\n"
          ]
        }
      ],
      "source": [
        "# del 10 al 2 hacia abajo\n",
        "for x in range(10, 1, -1):\n",
        "    print(x)"
      ]
    },
    {
      "cell_type": "code",
      "execution_count": null,
      "metadata": {
        "colab": {
          "base_uri": "https://localhost:8080/"
        },
        "id": "Q4IhXg2kuUvO",
        "outputId": "531bb249-28c0-473b-a6a3-27111b8446e6"
      },
      "outputs": [
        {
          "output_type": "stream",
          "name": "stdout",
          "text": [
            "0\n",
            "1\n",
            "2\n"
          ]
        }
      ],
      "source": [
        "# si sólo tiene una argumento, es equivalente a range(0, argumento)\n",
        "for x in range(3):\n",
        "    print(x)"
      ]
    },
    {
      "cell_type": "markdown",
      "metadata": {
        "id": "VsrQlRpNuUvP"
      },
      "source": [
        "## Listas"
      ]
    },
    {
      "cell_type": "code",
      "execution_count": null,
      "metadata": {
        "colab": {
          "base_uri": "https://localhost:8080/"
        },
        "id": "O3UzME3kuUvP",
        "outputId": "99b3d04a-c65b-43f4-98d0-704911b95373"
      },
      "outputs": [
        {
          "output_type": "execute_result",
          "data": {
            "text/plain": [
              "0"
            ]
          },
          "metadata": {},
          "execution_count": 19
        }
      ],
      "source": [
        "a = [] # Lista vacía\n",
        "len(a) # Devuelve la longitud de una lista"
      ]
    },
    {
      "cell_type": "markdown",
      "metadata": {
        "id": "hHfsoIRMuUvP"
      },
      "source": [
        "Una lista es un objeto que tiene métodos que nos facilitan su manejo."
      ]
    },
    {
      "cell_type": "code",
      "execution_count": null,
      "metadata": {
        "colab": {
          "base_uri": "https://localhost:8080/"
        },
        "id": "5mYO8VZmuUvP",
        "outputId": "4299765a-c923-4d43-e16a-0e49c2d9a3df"
      },
      "outputs": [
        {
          "output_type": "execute_result",
          "data": {
            "text/plain": [
              "['hola', 123, True]"
            ]
          },
          "metadata": {},
          "execution_count": 20
        }
      ],
      "source": [
        "# Pueden contener cualquie tipo de elementos\n",
        "a.append('hola')\n",
        "a.append(123)\n",
        "a.append(True)\n",
        "a"
      ]
    },
    {
      "cell_type": "code",
      "execution_count": null,
      "metadata": {
        "colab": {
          "base_uri": "https://localhost:8080/"
        },
        "id": "qViNqpaCuUvP",
        "outputId": "e71b3e0c-e24c-4dae-d508-894544ea6392"
      },
      "outputs": [
        {
          "output_type": "execute_result",
          "data": {
            "text/plain": [
              "['hola', 124, True]"
            ]
          },
          "metadata": {},
          "execution_count": 21
        }
      ],
      "source": [
        "# Podemos acceder y modificar sus elementos\n",
        "a[1] += 1\n",
        "a"
      ]
    },
    {
      "cell_type": "code",
      "execution_count": null,
      "metadata": {
        "colab": {
          "base_uri": "https://localhost:8080/"
        },
        "id": "bmlpAda0uUvQ",
        "outputId": "e4677b39-e2fa-463f-94fe-77ae3ac91af5"
      },
      "outputs": [
        {
          "output_type": "execute_result",
          "data": {
            "text/plain": [
              "[124, True]"
            ]
          },
          "metadata": {},
          "execution_count": 22
        }
      ],
      "source": [
        "# podemos borrar elementos a partir de su posición\n",
        "del a[0]\n",
        "a"
      ]
    },
    {
      "cell_type": "code",
      "execution_count": null,
      "metadata": {
        "colab": {
          "base_uri": "https://localhost:8080/"
        },
        "id": "0RuRHahAuUvQ",
        "outputId": "84c22bec-e03e-4534-c60a-4de2ef0eaa55"
      },
      "outputs": [
        {
          "output_type": "execute_result",
          "data": {
            "text/plain": [
              "[True]"
            ]
          },
          "metadata": {},
          "execution_count": 23
        }
      ],
      "source": [
        "# podemos borrar elementos\n",
        "a.remove(124)\n",
        "a"
      ]
    },
    {
      "cell_type": "code",
      "execution_count": null,
      "metadata": {
        "colab": {
          "base_uri": "https://localhost:8080/"
        },
        "id": "hlQE5PoFuUvQ",
        "outputId": "c7c4837f-3087-4e60-9c25-f74d9c634300"
      },
      "outputs": [
        {
          "output_type": "execute_result",
          "data": {
            "text/plain": [
              "[1, 2, 3, 4]"
            ]
          },
          "metadata": {},
          "execution_count": 24
        }
      ],
      "source": [
        "# Podemos crear listas con elementos\n",
        "a = [1, 2, 3, 4]\n",
        "a"
      ]
    },
    {
      "cell_type": "code",
      "execution_count": null,
      "metadata": {
        "colab": {
          "base_uri": "https://localhost:8080/"
        },
        "id": "czzqLcZQuUvQ",
        "outputId": "523a9468-1f48-437b-fa2c-317e3c9e76c6"
      },
      "outputs": [
        {
          "output_type": "execute_result",
          "data": {
            "text/plain": [
              "[2, 4, 6, 8, 10, 12, 14, 16, 18]"
            ]
          },
          "metadata": {},
          "execution_count": 25
        }
      ],
      "source": [
        "# En python podemos definir listas por 'comprensión':\n",
        "a = [2*x for x in range(1,10)]\n",
        "a"
      ]
    },
    {
      "cell_type": "code",
      "execution_count": null,
      "metadata": {
        "colab": {
          "base_uri": "https://localhost:8080/"
        },
        "id": "cZcgjvEYuUvQ",
        "outputId": "ff585118-60a8-4431-93cb-a92040d7b224"
      },
      "outputs": [
        {
          "output_type": "stream",
          "name": "stdout",
          "text": [
            "2\n",
            "4\n",
            "6\n",
            "8\n",
            "10\n",
            "12\n",
            "14\n",
            "16\n",
            "18\n"
          ]
        }
      ],
      "source": [
        "# el bucle for permite recorrer los elementos de una listas\n",
        "for elemento in a:\n",
        "    print(elemento)"
      ]
    },
    {
      "cell_type": "code",
      "execution_count": null,
      "metadata": {
        "colab": {
          "base_uri": "https://localhost:8080/"
        },
        "id": "Tr_UqahOuUvQ",
        "outputId": "d95c92d4-c61e-40c6-d347-66aae4043cb6"
      },
      "outputs": [
        {
          "output_type": "execute_result",
          "data": {
            "text/plain": [
              "[1, 2, 3, 4, 5, 6, 7, 8, 9, 10]"
            ]
          },
          "metadata": {},
          "execution_count": 27
        }
      ],
      "source": [
        "a = list(range(1,11)) # el constructor list() crea listas\n",
        "a"
      ]
    },
    {
      "cell_type": "markdown",
      "metadata": {
        "id": "BY53-9zCuUvQ"
      },
      "source": [
        "Con el operador ':' podemos seleccionar trozos de una lista y trabajar con ellos como si fueran listas. En realidad son vistas sobre la lista original, no se duplican los elementos en memoria."
      ]
    },
    {
      "cell_type": "code",
      "execution_count": null,
      "metadata": {
        "colab": {
          "base_uri": "https://localhost:8080/"
        },
        "id": "Q77PrA2ouUvR",
        "outputId": "49096ed3-b692-409f-af93-16920c9ac99e"
      },
      "outputs": [
        {
          "output_type": "execute_result",
          "data": {
            "text/plain": [
              "[1, 2, 3]"
            ]
          },
          "metadata": {},
          "execution_count": 28
        }
      ],
      "source": [
        "a[0:3] # selección de los 3 primeros elementos. Tambien se puede escribir a[:3]"
      ]
    },
    {
      "cell_type": "code",
      "execution_count": null,
      "metadata": {
        "colab": {
          "base_uri": "https://localhost:8080/"
        },
        "id": "osOdedPguUvR",
        "outputId": "e41f42f2-fb90-4cce-bd91-576bd553fe61"
      },
      "outputs": [
        {
          "output_type": "execute_result",
          "data": {
            "text/plain": [
              "[2, 3, 4]"
            ]
          },
          "metadata": {},
          "execution_count": 29
        }
      ],
      "source": [
        "a[1:4] # selección de los elementos en las posiciones 1, 2 y 3"
      ]
    },
    {
      "cell_type": "code",
      "execution_count": null,
      "metadata": {
        "colab": {
          "base_uri": "https://localhost:8080/"
        },
        "id": "n-pFt7CquUvR",
        "outputId": "d3b3fcc5-656c-4732-b947-bb5828703ea4"
      },
      "outputs": [
        {
          "output_type": "execute_result",
          "data": {
            "text/plain": [
              "[2, 4, 6]"
            ]
          },
          "metadata": {},
          "execution_count": 30
        }
      ],
      "source": [
        "a[1:6:2] # Del segundo al sexto elemento saltando de 2 en 2"
      ]
    },
    {
      "cell_type": "code",
      "execution_count": null,
      "metadata": {
        "colab": {
          "base_uri": "https://localhost:8080/"
        },
        "id": "dKKOST0KuUvR",
        "outputId": "b806e93c-ec69-4cf5-a6a2-1101da271c52"
      },
      "outputs": [
        {
          "output_type": "execute_result",
          "data": {
            "text/plain": [
              "[4, 3, 2]"
            ]
          },
          "metadata": {},
          "execution_count": 31
        }
      ],
      "source": [
        "a[3:0:-1] # Elementos en posiciones 3, 2, 1"
      ]
    },
    {
      "cell_type": "code",
      "execution_count": null,
      "metadata": {
        "colab": {
          "base_uri": "https://localhost:8080/"
        },
        "id": "OtF5EBVEuUvR",
        "outputId": "c1bbd6ee-a225-461a-eb24-7a090bcb4ade"
      },
      "outputs": [
        {
          "output_type": "execute_result",
          "data": {
            "text/plain": [
              "[10, 9, 8, 7, 6, 5, 4, 3, 2, 1]"
            ]
          },
          "metadata": {},
          "execution_count": 32
        }
      ],
      "source": [
        "a[::-1] # ver la lista al revés"
      ]
    },
    {
      "cell_type": "code",
      "execution_count": null,
      "metadata": {
        "colab": {
          "base_uri": "https://localhost:8080/"
        },
        "id": "0V3JlLHpuUvR",
        "outputId": "2b671396-5a7c-4913-e046-a93fa0fa10fe"
      },
      "outputs": [
        {
          "output_type": "execute_result",
          "data": {
            "text/plain": [
              "[8, 9, 10]"
            ]
          },
          "metadata": {},
          "execution_count": 33
        }
      ],
      "source": [
        "a[-3:] # ultimos 3 elementos de la lista"
      ]
    },
    {
      "cell_type": "markdown",
      "metadata": {
        "id": "QGfJRzbsuUvR"
      },
      "source": [
        "## Conjuntos"
      ]
    },
    {
      "cell_type": "code",
      "execution_count": null,
      "metadata": {
        "collapsed": true,
        "id": "kyCyOVmiuUvR"
      },
      "outputs": [],
      "source": [
        "# definir conjuntos\n",
        "dias_semana = { 'lunes', 'martes', 'miércoles', 'jueves', 'viernes', 'sábado'}"
      ]
    },
    {
      "cell_type": "code",
      "execution_count": null,
      "metadata": {
        "colab": {
          "base_uri": "https://localhost:8080/"
        },
        "id": "6-Ye5xP8uUvS",
        "outputId": "76e6bb96-e360-4fa5-aafb-7d22c3d41d84"
      },
      "outputs": [
        {
          "output_type": "execute_result",
          "data": {
            "text/plain": [
              "True"
            ]
          },
          "metadata": {},
          "execution_count": 35
        }
      ],
      "source": [
        "# pertenencia\n",
        "'miércoles' in dias_semana"
      ]
    },
    {
      "cell_type": "code",
      "execution_count": null,
      "metadata": {
        "colab": {
          "base_uri": "https://localhost:8080/"
        },
        "id": "tXAEiX2wuUvS",
        "outputId": "a8e05960-71b7-4982-93c7-a38ea2e73c85"
      },
      "outputs": [
        {
          "output_type": "execute_result",
          "data": {
            "text/plain": [
              "False"
            ]
          },
          "metadata": {},
          "execution_count": 36
        }
      ],
      "source": [
        "'domingo' in dias_semana"
      ]
    },
    {
      "cell_type": "code",
      "execution_count": null,
      "metadata": {
        "colab": {
          "base_uri": "https://localhost:8080/"
        },
        "id": "B5NQNVGyuUvS",
        "outputId": "0132d76a-76d7-462e-ed04-1d4ae773cb30"
      },
      "outputs": [
        {
          "output_type": "execute_result",
          "data": {
            "text/plain": [
              "True"
            ]
          },
          "metadata": {},
          "execution_count": 37
        }
      ],
      "source": [
        "# añadir elementos\n",
        "dias_semana.add('domingo')\n",
        "'domingo' in dias_semana"
      ]
    },
    {
      "cell_type": "code",
      "execution_count": null,
      "metadata": {
        "colab": {
          "base_uri": "https://localhost:8080/"
        },
        "id": "5N17WEOCuUvS",
        "outputId": "ba020dfd-7aac-4199-c511-29e2ad7f839e"
      },
      "outputs": [
        {
          "output_type": "execute_result",
          "data": {
            "text/plain": [
              "{'domingo', 'jueves', 'lunes', 'martes', 'miércoles', 'sábado', 'viernes'}"
            ]
          },
          "metadata": {},
          "execution_count": 38
        }
      ],
      "source": [
        "# los elementos no se guardan ordenados\n",
        "dias_semana"
      ]
    },
    {
      "cell_type": "code",
      "execution_count": null,
      "metadata": {
        "colab": {
          "base_uri": "https://localhost:8080/"
        },
        "id": "jBtISUybuUvS",
        "outputId": "6101348b-4a12-4941-f1cc-3cb972561871"
      },
      "outputs": [
        {
          "output_type": "stream",
          "name": "stdout",
          "text": [
            "7\n",
            "7\n"
          ]
        }
      ],
      "source": [
        "# no admite elementos repetidos\n",
        "print(len(dias_semana)) # número de elementos\n",
        "dias_semana.add('lunes')  \n",
        "print(len(dias_semana))"
      ]
    },
    {
      "cell_type": "code",
      "execution_count": null,
      "metadata": {
        "colab": {
          "base_uri": "https://localhost:8080/"
        },
        "id": "LpOz-_GbuUvS",
        "outputId": "07e7aa37-4a18-41ed-a4c6-d7e844182086"
      },
      "outputs": [
        {
          "output_type": "stream",
          "name": "stdout",
          "text": [
            "sábado\n",
            "domingo\n",
            "martes\n",
            "lunes\n",
            "viernes\n",
            "miércoles\n",
            "jueves\n"
          ]
        }
      ],
      "source": [
        "# recorrido de conjuntos\n",
        "for elemento in dias_semana:\n",
        "    print(elemento)"
      ]
    },
    {
      "cell_type": "code",
      "execution_count": null,
      "metadata": {
        "colab": {
          "base_uri": "https://localhost:8080/"
        },
        "id": "Scx0-5rZuUvS",
        "outputId": "0c90160c-dda9-4dec-c090-57c4efca75c0"
      },
      "outputs": [
        {
          "output_type": "execute_result",
          "data": {
            "text/plain": [
              "{1, 2, 3}"
            ]
          },
          "metadata": {},
          "execution_count": 41
        }
      ],
      "source": [
        "# el constructor set() crea conjuntos\n",
        "# quitar elementos repetidos de una lista\n",
        "set([1,2,3,1,2,3,1,2,3])"
      ]
    },
    {
      "cell_type": "code",
      "execution_count": null,
      "metadata": {
        "colab": {
          "base_uri": "https://localhost:8080/"
        },
        "id": "7gs5cZY3uUvS",
        "outputId": "dfc58c76-69ca-4d56-9b27-19f1feb1e551"
      },
      "outputs": [
        {
          "output_type": "execute_result",
          "data": {
            "text/plain": [
              "{1, 4, 9, 16, 25, 36, 49, 64, 81}"
            ]
          },
          "metadata": {},
          "execution_count": 42
        }
      ],
      "source": [
        "# También se pueden definir por comprensión\n",
        "cuadrados = { x**2 for x in range(1,10)}\n",
        "cuadrados"
      ]
    },
    {
      "cell_type": "markdown",
      "metadata": {
        "id": "6he-OAvmuUvT"
      },
      "source": [
        "## Diccionarios"
      ]
    },
    {
      "cell_type": "code",
      "execution_count": null,
      "metadata": {
        "colab": {
          "base_uri": "https://localhost:8080/"
        },
        "id": "YwRJgYqUuUvT",
        "outputId": "4d33e8a4-235b-4308-d46e-55f7d139520e"
      },
      "outputs": [
        {
          "output_type": "execute_result",
          "data": {
            "text/plain": [
              "{'uno': 'one', 'dos': 'two', 'tres': 'three', 'cuatro': 'four'}"
            ]
          },
          "metadata": {},
          "execution_count": 43
        }
      ],
      "source": [
        "# Contienen pares (clave, valor)\n",
        "diccionario = {'uno': 'one', 'dos': 'two', 'tres': 'three', 'cuatro': 'four'}\n",
        "diccionario"
      ]
    },
    {
      "cell_type": "code",
      "execution_count": null,
      "metadata": {
        "colab": {
          "base_uri": "https://localhost:8080/",
          "height": 35
        },
        "id": "pxE4Q1gfuUvT",
        "outputId": "2793c448-35d4-4358-bd75-0d1cd54d274c"
      },
      "outputs": [
        {
          "output_type": "execute_result",
          "data": {
            "text/plain": [
              "'one'"
            ],
            "application/vnd.google.colaboratory.intrinsic+json": {
              "type": "string"
            }
          },
          "metadata": {},
          "execution_count": 44
        }
      ],
      "source": [
        "# acceso a elementos por clave\n",
        "diccionario['uno']"
      ]
    },
    {
      "cell_type": "code",
      "execution_count": null,
      "metadata": {
        "colab": {
          "base_uri": "https://localhost:8080/"
        },
        "id": "EgPBSSCvuUvT",
        "outputId": "f729f73b-f8c9-47a2-92af-39c8c05646dc"
      },
      "outputs": [
        {
          "output_type": "execute_result",
          "data": {
            "text/plain": [
              "dict_keys(['uno', 'dos', 'tres', 'cuatro'])"
            ]
          },
          "metadata": {},
          "execution_count": 45
        }
      ],
      "source": [
        "# claves\n",
        "diccionario.keys()"
      ]
    },
    {
      "cell_type": "code",
      "execution_count": null,
      "metadata": {
        "colab": {
          "base_uri": "https://localhost:8080/"
        },
        "id": "7jBAUymNuUvT",
        "outputId": "745d1edd-a05a-46a0-effe-c8af9a59c8e2"
      },
      "outputs": [
        {
          "output_type": "execute_result",
          "data": {
            "text/plain": [
              "dict_items([('uno', 'one'), ('dos', 'two'), ('tres', 'three'), ('cuatro', 'four')])"
            ]
          },
          "metadata": {},
          "execution_count": 46
        }
      ],
      "source": [
        "# pares (clave, valor)\n",
        "diccionario.items()"
      ]
    },
    {
      "cell_type": "code",
      "execution_count": null,
      "metadata": {
        "colab": {
          "base_uri": "https://localhost:8080/"
        },
        "id": "37VVHiO_uUvT",
        "outputId": "393a602f-2569-4b75-b971-e4881dea25f9"
      },
      "outputs": [
        {
          "output_type": "execute_result",
          "data": {
            "text/plain": [
              "{'uno': 'one',\n",
              " 'dos': 'two',\n",
              " 'tres': 'three',\n",
              " 'cuatro': 'four',\n",
              " 'cinco': 'five'}"
            ]
          },
          "metadata": {},
          "execution_count": 47
        }
      ],
      "source": [
        "# Son mutables\n",
        "diccionario['cinco'] = 'five'\n",
        "diccionario"
      ]
    },
    {
      "cell_type": "code",
      "execution_count": null,
      "metadata": {
        "colab": {
          "base_uri": "https://localhost:8080/"
        },
        "id": "b4BF0_KxuUvT",
        "outputId": "182dcc17-eefe-4960-d8da-5cda039f6264"
      },
      "outputs": [
        {
          "output_type": "execute_result",
          "data": {
            "text/plain": [
              "5"
            ]
          },
          "metadata": {},
          "execution_count": 48
        }
      ],
      "source": [
        "# elementos\n",
        "len(diccionario)"
      ]
    },
    {
      "cell_type": "code",
      "execution_count": null,
      "metadata": {
        "colab": {
          "base_uri": "https://localhost:8080/"
        },
        "id": "OlcuYNDmuUvU",
        "outputId": "b2a5e3a6-7c0a-4406-d5b2-e131f40f4bd3"
      },
      "outputs": [
        {
          "output_type": "stream",
          "name": "stdout",
          "text": [
            "uno one\n",
            "dos two\n",
            "tres three\n",
            "cuatro four\n",
            "cinco five\n"
          ]
        }
      ],
      "source": [
        "# recorrido\n",
        "for clave in diccionario:\n",
        "    print(clave, diccionario[clave])"
      ]
    },
    {
      "cell_type": "code",
      "execution_count": null,
      "metadata": {
        "colab": {
          "base_uri": "https://localhost:8080/"
        },
        "id": "7tk-A0JQuUvU",
        "outputId": "8316e3f1-cf5b-4b34-f2a1-77d518505c34"
      },
      "outputs": [
        {
          "output_type": "stream",
          "name": "stdout",
          "text": [
            "uno one\n",
            "dos two\n",
            "tres three\n",
            "cuatro four\n",
            "cinco five\n"
          ]
        }
      ],
      "source": [
        "for clave, valor in diccionario.items():\n",
        "    print(clave, valor)"
      ]
    },
    {
      "cell_type": "markdown",
      "metadata": {
        "id": "PvXrKtZ8uUvU"
      },
      "source": [
        "## Funciones"
      ]
    },
    {
      "cell_type": "markdown",
      "metadata": {
        "id": "IStsvERxuUvU"
      },
      "source": [
        "Las funciones se definen con la palabra clave `def` y tienen la sintaxis `def nombre_funcion(parametros):`. Para devolver un valor utilizamos la palabra clave `return`.\n"
      ]
    },
    {
      "cell_type": "code",
      "execution_count": null,
      "metadata": {
        "collapsed": true,
        "id": "ih5SLq4uuUvU"
      },
      "outputs": [],
      "source": [
        "# Definición de una función\n",
        "def resta(x, y):\n",
        "    return x - y"
      ]
    },
    {
      "cell_type": "code",
      "execution_count": null,
      "metadata": {
        "colab": {
          "base_uri": "https://localhost:8080/"
        },
        "id": "gJbgd2LguUvU",
        "outputId": "88518544-bcd3-4624-aec7-401b50699a2c"
      },
      "outputs": [
        {
          "output_type": "execute_result",
          "data": {
            "text/plain": [
              "15"
            ]
          },
          "metadata": {},
          "execution_count": 52
        }
      ],
      "source": [
        "resta(20, 5)"
      ]
    },
    {
      "cell_type": "code",
      "execution_count": null,
      "metadata": {
        "colab": {
          "base_uri": "https://localhost:8080/"
        },
        "id": "bQKgNCPBuUvU",
        "outputId": "8c8d5d7d-1501-41e4-dcba-264ed43b6bd3"
      },
      "outputs": [
        {
          "output_type": "execute_result",
          "data": {
            "text/plain": [
              "8"
            ]
          },
          "metadata": {},
          "execution_count": 53
        }
      ],
      "source": [
        "# podemos pasar los algumentos por posición o por nombre\n",
        "resta(y=2, x=10)"
      ]
    },
    {
      "cell_type": "code",
      "execution_count": null,
      "metadata": {
        "colab": {
          "base_uri": "https://localhost:8080/"
        },
        "id": "qdJIhh8AuUvU",
        "outputId": "1ac7a990-888b-4e01-d08f-554fbbcaa644"
      },
      "outputs": [
        {
          "output_type": "execute_result",
          "data": {
            "text/plain": [
              "7"
            ]
          },
          "metadata": {},
          "execution_count": 54
        }
      ],
      "source": [
        "# si mezclamos, los primeros tienen que pasarse por posición\n",
        "resta(10, y=3)"
      ]
    },
    {
      "cell_type": "code",
      "execution_count": null,
      "metadata": {
        "colab": {
          "base_uri": "https://localhost:8080/"
        },
        "id": "BMfUlODtuUvV",
        "outputId": "39b9f0dc-5495-4959-9734-c7ea1e951c1d"
      },
      "outputs": [
        {
          "output_type": "execute_result",
          "data": {
            "text/plain": [
              "5"
            ]
          },
          "metadata": {},
          "execution_count": 55
        }
      ],
      "source": [
        "# Los parámetros de tipos básicos se pasan por valor\n",
        "def incrementa_mal(x):\n",
        "    x += 1\n",
        "\n",
        "x = 5\n",
        "incrementa_mal(x)\n",
        "x"
      ]
    },
    {
      "cell_type": "code",
      "execution_count": null,
      "metadata": {
        "colab": {
          "base_uri": "https://localhost:8080/"
        },
        "id": "vmVoplxAuUvV",
        "outputId": "3713f300-5f63-4e48-de2c-eab1ddaa05c4"
      },
      "outputs": [
        {
          "output_type": "execute_result",
          "data": {
            "text/plain": [
              "[2]"
            ]
          },
          "metadata": {},
          "execution_count": 56
        }
      ],
      "source": [
        "# Los parámetros de tipos compuestos se pasan por variable\n",
        "def add_dos(lista):\n",
        "    lista.append(2)\n",
        "    \n",
        "l = []\n",
        "add_dos(l)\n",
        "l"
      ]
    },
    {
      "cell_type": "code",
      "execution_count": null,
      "metadata": {
        "colab": {
          "base_uri": "https://localhost:8080/"
        },
        "id": "C_5Phr_5uUvV",
        "outputId": "a552d00f-49fa-4049-8815-31761ca6da1d"
      },
      "outputs": [
        {
          "output_type": "execute_result",
          "data": {
            "text/plain": [
              "(13, 7)"
            ]
          },
          "metadata": {},
          "execution_count": 57
        }
      ],
      "source": [
        "# Las funciones sólo pueden devolver un valor (return) pero puede ser una tupla (!!!)\n",
        "def suma_resta(x, y):\n",
        "    return x + y, x - y\n",
        "\n",
        "a, b, = suma_resta(10, 3)\n",
        "a, b"
      ]
    },
    {
      "cell_type": "code",
      "execution_count": null,
      "metadata": {
        "colab": {
          "base_uri": "https://localhost:8080/"
        },
        "id": "OsZnE4pwuUvV",
        "outputId": "b6ef0663-1fbb-4af4-d3c7-f86861a38ef0"
      },
      "outputs": [
        {
          "output_type": "stream",
          "name": "stdout",
          "text": [
            "7\n",
            "6\n"
          ]
        }
      ],
      "source": [
        "# Los parámetros pueden tener valores por defecto\n",
        "def incrementa(x, delta=1):\n",
        "    return x + delta\n",
        "\n",
        "print(incrementa(5, 2))\n",
        "print(incrementa(5))"
      ]
    },
    {
      "cell_type": "markdown",
      "metadata": {
        "id": "4-N_pXbguUvV"
      },
      "source": [
        "## Módulos"
      ]
    },
    {
      "cell_type": "code",
      "execution_count": null,
      "metadata": {
        "colab": {
          "base_uri": "https://localhost:8080/"
        },
        "id": "2AWk2VlQuUvV",
        "outputId": "431e0543-dfde-4b9e-af49-a206f2f157ef"
      },
      "outputs": [
        {
          "output_type": "execute_result",
          "data": {
            "text/plain": [
              "3628800"
            ]
          },
          "metadata": {},
          "execution_count": 59
        }
      ],
      "source": [
        "# Para usar las funciones de un módulo, primero tenemos que importarlo\n",
        "import math\n",
        "\n",
        "math.factorial(10)"
      ]
    },
    {
      "cell_type": "code",
      "execution_count": null,
      "metadata": {
        "colab": {
          "base_uri": "https://localhost:8080/"
        },
        "id": "lOKRYDoRuUvV",
        "outputId": "fc5da143-d18d-4c5e-a5ab-d61c7138c378"
      },
      "outputs": [
        {
          "output_type": "execute_result",
          "data": {
            "text/plain": [
              "array([4, 6, 8])"
            ]
          },
          "metadata": {},
          "execution_count": 60
        }
      ],
      "source": [
        "# Si el nombre del módulo es muy largo y no queremos escribirlo todo el rato\n",
        "# podemos darle un 'apodo'\n",
        "import numpy as np\n",
        "\n",
        "np.add([1, 2, 3], [3, 4, 5]) # suma de vectores"
      ]
    },
    {
      "cell_type": "code",
      "execution_count": null,
      "metadata": {
        "colab": {
          "base_uri": "https://localhost:8080/"
        },
        "id": "lSGvKVHruUvW",
        "outputId": "4ef30c89-8d3d-4256-af7c-acdd3511b42a"
      },
      "outputs": [
        {
          "output_type": "execute_result",
          "data": {
            "text/plain": [
              "3628800"
            ]
          },
          "metadata": {},
          "execution_count": 61
        }
      ],
      "source": [
        "# También podemos importar funciones concretas y ahorranos escribir el nombre\n",
        "# del módulo cuando las usemos\n",
        "from math import factorial\n",
        "\n",
        "factorial(10)"
      ]
    },
    {
      "cell_type": "code",
      "execution_count": null,
      "metadata": {
        "colab": {
          "base_uri": "https://localhost:8080/",
          "height": 282
        },
        "id": "1rFlQzpouUvW",
        "outputId": "952ed2b1-c352-4404-edf0-adda0469fc9d"
      },
      "outputs": [
        {
          "output_type": "execute_result",
          "data": {
            "text/plain": [
              "[<matplotlib.lines.Line2D at 0x7f4ab87495b0>]"
            ]
          },
          "metadata": {},
          "execution_count": 62
        },
        {
          "output_type": "display_data",
          "data": {
            "text/plain": [
              "<Figure size 432x288 with 1 Axes>"
            ],
            "image/png": "[encoded data removed]"
          },
          "metadata": {
            "needs_background": "light"
          }
        }
      ],
      "source": [
        "# Las bibliotecas normalmente exportan varios módulos que pueden estar anidados\n",
        "import matplotlib.pyplot as plt\n",
        "\n",
        "x = np.linspace(-10, 10, 21) # 21 valores desde el -10 hasta el 10 equidistantes\n",
        "y = [e*e for e in x]\n",
        "plt.plot(x, y)"
      ]
    },
    {
      "cell_type": "markdown",
      "metadata": {
        "id": "JQMdN5LAuUvW"
      },
      "source": [
        "## Importación de datos de un fichero csv"
      ]
    },
    {
      "cell_type": "markdown",
      "metadata": {
        "id": "-I2W8rPmuUvW"
      },
      "source": [
        "<br>\n",
        "Los ficheros csv son ficheros de texto que se utilizan normalmente para almacenar tablas de datos pequeñas en estadística y ciencia de datos en general. \n",
        "\n",
        "El nombre de csv viene de \"comma separated values\" ya que se trata de una tabla de datos donde los datos están dispuestos en filas de igual longitud (es decir, de igual número de columnas) y cada valor está separado por comas. \n",
        "\n",
        "Cada columna de datos es, por tanto, una variable de un tipo determinado y no necesariamente tipos numéricos. \n",
        "\n",
        "En este caso importaremos un fichero de datos llamado mpg.csv, que contiene datos sobre 234 coches.\n",
        "\n",
        "\n",
        "* mpg : miles per gallon\n",
        "* class : car classification\n",
        "* cty : city mpg\n",
        "* cyl : # of cylinders\n",
        "* displ : engine displacement in liters\n",
        "* drv : f = front-wheel drive, r = rear wheel drive, 4 = 4wd\n",
        "* fl : fuel (e = ethanol E85, d = diesel, r = regular, p = premium, c = CNG)\n",
        "* hwy : highway mpg\n",
        "* manufacturer : automobile manufacturer\n",
        "* model : model of car\n",
        "* trans : type of transmission\n",
        "* year : model year\n",
        "\n",
        "**Te recomiendo que abras el fichero csv con un editor de texto para ver claramente de lo que estamos hablando.**"
      ]
    },
    {
      "cell_type": "markdown",
      "metadata": {
        "id": "aiVr4rJ5uUvW"
      },
      "source": [
        "Primero importaremos el módulo CSV que nos permitirá leer el fichero csv usando [las funcionalidades de iPython](https://ipython.readthedocs.io/en/stable/interactive/magics.html), \n",
        "\n"
      ]
    },
    {
      "cell_type": "code",
      "execution_count": null,
      "metadata": {
        "colab": {
          "base_uri": "https://localhost:8080/",
          "height": 35
        },
        "id": "iKLCH-sIuUvW",
        "outputId": "1db043a4-c5a9-4b93-cee1-cb41a2cf7922"
      },
      "outputs": [
        {
          "output_type": "execute_result",
          "data": {
            "text/plain": [
              "'%.2f'"
            ],
            "application/vnd.google.colaboratory.intrinsic+json": {
              "type": "string"
            }
          },
          "metadata": {},
          "execution_count": 63
        }
      ],
      "source": [
        "import csv\n",
        "\n",
        "# Pondremos la precisión de la notación decimal que mostramos por pantalla a 2 \n",
        "%precision 2"
      ]
    },
    {
      "cell_type": "markdown",
      "metadata": {
        "id": "6u3Eq8ZYuUvW"
      },
      "source": [
        "A continuación, leemos el fichero mpg.csv con `csv.DictReader` que lo convertirá en una **lista de dicionarios**. "
      ]
    },
    {
      "cell_type": "code",
      "source": [
        "# acceso a google drive\n",
        "\n",
        "from google.colab import drive\n",
        "drive.mount('/content/drive')"
      ],
      "metadata": {
        "colab": {
          "base_uri": "https://localhost:8080/"
        },
        "id": "IHsguabUxum4",
        "outputId": "a1ccde87-dc41-4568-bd41-7fd59414784b"
      },
      "execution_count": null,
      "outputs": [
        {
          "output_type": "stream",
          "name": "stdout",
          "text": [
            "Mounted at /content/drive\n"
          ]
        }
      ]
    },
    {
      "cell_type": "code",
      "source": [
        "with open('/content/drive/MyDrive/IA2/p2/mpg.csv') as csvfile:\n",
        "    mpg = list(csv.DictReader(csvfile))"
      ],
      "metadata": {
        "id": "CxOJn_xjx1-K"
      },
      "execution_count": null,
      "outputs": []
    },
    {
      "cell_type": "markdown",
      "metadata": {
        "id": "vtyjGS0cuUvX"
      },
      "source": [
        "<br>\n",
        "`csv.Dictreader` lee cada fila de nuestro fichero csv como un diccionario y que el resultado es una lista de diccionarios.  \n",
        "\n",
        "Con `len` podemos ver que la longitud de nuestra lista de diccionarios (tantas como filas de datos tiene el csv)."
      ]
    },
    {
      "cell_type": "code",
      "execution_count": null,
      "metadata": {
        "colab": {
          "base_uri": "https://localhost:8080/"
        },
        "id": "epm_03ahuUvX",
        "outputId": "1b435cf6-e0ab-41d7-89d1-612a1145d7fb"
      },
      "outputs": [
        {
          "output_type": "execute_result",
          "data": {
            "text/plain": [
              "234"
            ]
          },
          "metadata": {},
          "execution_count": 66
        }
      ],
      "source": [
        "len(mpg)"
      ]
    },
    {
      "cell_type": "markdown",
      "metadata": {
        "id": "Ibh_4a-4uUvX"
      },
      "source": [
        "Mostramos los tres primeros elementos (que son diccionarios) de nuestra lista.\n",
        "\n",
        "Vemos que cada diccionario tiene como claves (keys) los nombres de las columnas y como datos los valores de cada clave para ese elemento."
      ]
    },
    {
      "cell_type": "code",
      "execution_count": null,
      "metadata": {
        "colab": {
          "base_uri": "https://localhost:8080/"
        },
        "id": "Hu1xdEEkuUvX",
        "outputId": "bf979353-46b4-4cda-90cd-5c1932e84541"
      },
      "outputs": [
        {
          "output_type": "execute_result",
          "data": {
            "text/plain": [
              "[{'': '1',\n",
              "  'manufacturer': 'audi',\n",
              "  'model': 'a4',\n",
              "  'displ': '1.8',\n",
              "  'year': '1999',\n",
              "  'cyl': '4',\n",
              "  'trans': 'auto(l5)',\n",
              "  'drv': 'f',\n",
              "  'cty': '18',\n",
              "  'hwy': '29',\n",
              "  'fl': 'p',\n",
              "  'class': 'compact'},\n",
              " {'': '2',\n",
              "  'manufacturer': 'audi',\n",
              "  'model': 'a4',\n",
              "  'displ': '1.8',\n",
              "  'year': '1999',\n",
              "  'cyl': '4',\n",
              "  'trans': 'manual(m5)',\n",
              "  'drv': 'f',\n",
              "  'cty': '21',\n",
              "  'hwy': '29',\n",
              "  'fl': 'p',\n",
              "  'class': 'compact'},\n",
              " {'': '3',\n",
              "  'manufacturer': 'audi',\n",
              "  'model': 'a4',\n",
              "  'displ': '2',\n",
              "  'year': '2008',\n",
              "  'cyl': '4',\n",
              "  'trans': 'manual(m6)',\n",
              "  'drv': 'f',\n",
              "  'cty': '20',\n",
              "  'hwy': '31',\n",
              "  'fl': 'p',\n",
              "  'class': 'compact'}]"
            ]
          },
          "metadata": {},
          "execution_count": 67
        }
      ],
      "source": [
        "mpg[:3] "
      ]
    },
    {
      "cell_type": "markdown",
      "metadata": {
        "id": "NqIhSFuSuUvX"
      },
      "source": [
        "<br>\n",
        "Con `keys` obtenemos los nombres de las columnas de nuestro fichero csv."
      ]
    },
    {
      "cell_type": "code",
      "execution_count": null,
      "metadata": {
        "colab": {
          "base_uri": "https://localhost:8080/"
        },
        "id": "2aOh48OwuUvX",
        "outputId": "62bb9220-4563-4046-c3d1-0043878a1da5"
      },
      "outputs": [
        {
          "output_type": "execute_result",
          "data": {
            "text/plain": [
              "dict_keys(['', 'manufacturer', 'model', 'displ', 'year', 'cyl', 'trans', 'drv', 'cty', 'hwy', 'fl', 'class'])"
            ]
          },
          "metadata": {},
          "execution_count": 68
        }
      ],
      "source": [
        "mpg[0].keys()"
      ]
    },
    {
      "cell_type": "markdown",
      "metadata": {
        "id": "ZwQci2d6uUvX"
      },
      "source": [
        "<br>\n",
        "Podemos calcular la media de la variable `cty` en todos los coches del conjunto de datos. Pero, **ojo**, como todos los valores del diccionario son `strings` tenemos que convertirlos a `float`"
      ]
    },
    {
      "cell_type": "code",
      "execution_count": null,
      "metadata": {
        "colab": {
          "base_uri": "https://localhost:8080/"
        },
        "id": "vYskvt4WuUvX",
        "outputId": "26d3e48a-81c4-4862-a939-9f564ef5376f"
      },
      "outputs": [
        {
          "output_type": "execute_result",
          "data": {
            "text/plain": [
              "16.86"
            ]
          },
          "metadata": {},
          "execution_count": 69
        }
      ],
      "source": [
        "sum(float(d['cty']) for d in mpg) / len(mpg)"
      ]
    },
    {
      "cell_type": "markdown",
      "metadata": {
        "id": "bKJOa4XKuUvY"
      },
      "source": [
        "Podemos ver que trabajar con una lista de diccionarios es poco operativo y que requiere mucha sintáxis.\n",
        "\n",
        "Más adelante veremos que Python dispone de librerías muy útiles para simplificar el trabajo con matrices numéricas (numpy) y con tablas de datos (pandas)."
      ]
    },
    {
      "cell_type": "markdown",
      "metadata": {
        "id": "_kVVe_pxuUvY"
      },
      "source": [
        "# Más recursos de Python"
      ]
    },
    {
      "cell_type": "markdown",
      "metadata": {
        "id": "GN_FC2YeuUvY"
      },
      "source": [
        "- [Kaggle Learn](https://www.kaggle.com/learn)\n",
        "\n",
        "- [Coursera: Applied Data Science with Python Specialization](https://www.coursera.org/specializations/data-science-python)\n",
        "\n",
        "- [Cursos de Formación en Informática](https://cursosinformatica.ucm.es)\n",
        "\n",
        "- [Python Docs (for general Python documentation)](https://docs.python.org/3/)\n",
        "\n",
        "- [Python Classes Docs](https://docs.python.org/3.5/tutorial/classes.html)\n",
        "\n",
        "- [Scipy](http://scipy.org/) (for [IPython](http://ipython.org/), [Numpy](http://www.numpy.org/), [Pandas](http://pandas.pydata.org/), and [Matplotlib](http://matplotlib.org/))\n",
        "\n",
        "- Y [Stack Overflow](http://stackoverflow.com/questions/tagged/pandas)!"
      ]
    },
    {
      "cell_type": "markdown",
      "metadata": {
        "id": "Sa2Aabi3uUvY"
      },
      "source": [
        "# Atajos de teclado en jupyter notebooks\n",
        "\n",
        "Te recomendamos que dediques algo de tiempo a aprender los atajos de teclado de este entorno. Prácticamente se puede hacer todo sin necesidad de usar el ratón y eso permite ahorrar mucho tiempo.\n",
        "\n",
        "Puedes ver todos los atajos en el menú `Help >> Keyboard shortcats`\n",
        "\n",
        "Hay dos modos de trabajo: __Command Mode__ y __Edit Mode__. El primero te permite navegar por las celdas y el segundo te permite modificar el contenido de una celda.\n",
        "\n",
        "Algunos atajos útiles en el modo __Command__ son:\n",
        "\n",
        "- Flechas arriba y abajo para navegar por el notebook\n",
        "- `a` para añadir una nueva celda vacía encima de la actual\n",
        "- `b`para añadir una nueva celda vacía debajo de la actual\n",
        "- `x` para cortar (borrar) la celda actual o las celdas seleccionadas \n",
        "- `c` para copiar la celda actual o las celdas seleccionadas\n",
        "- `v` para pegar la celda  o las celdas cortadas o copiadas\n",
        "- `m` para cambiar el tipo de celda actual a Markdown\n",
        "- `y` para cambiar el tipo de celda actual a código\n",
        "- `intro` para pasar al modo _Edit_ en la celda actual\n",
        "\n",
        "Algunos atajos útiles en el modo __Edit__ son:\n",
        "\n",
        "- `mayúsculas + intro` para ejecutar la celda actual y volver al modo _Command_\n",
        "- `escape` para volver al modo _Command_\n",
        "- `tabulador`para autocompletar el código"
      ]
    },
    {
      "cell_type": "code",
      "execution_count": null,
      "metadata": {
        "id": "8-3qSW8tuUvY"
      },
      "outputs": [],
      "source": []
    }
  ],
  "metadata": {
    "kernelspec": {
      "display_name": "Python 3",
      "language": "python",
      "name": "python3"
    },
    "language_info": {
      "codemirror_mode": {
        "name": "ipython",
        "version": 3
      },
      "file_extension": ".py",
      "mimetype": "text/x-python",
      "name": "python",
      "nbconvert_exporter": "python",
      "pygments_lexer": "ipython3",
      "version": "3.8.12"
    },
    "colab": {
      "provenance": []
    }
  },
  "nbformat": 4,
  "nbformat_minor": 0
}