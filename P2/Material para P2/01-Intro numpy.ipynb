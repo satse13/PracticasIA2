{
  "cells": [
    {
      "cell_type": "markdown",
      "metadata": {
        "id": "eJx7OOWqz2j3"
      },
      "source": [
        "# Introducción a Numpy"
      ]
    },
    {
      "cell_type": "markdown",
      "metadata": {
        "id": "KWan5BAIz2j5"
      },
      "source": [
        "Una de las grandes carencias de Python es que no tiene arrays y las listas no son eficientes para trabajar con grandes cantidades de datos. Numpy es la biblioteca que permite la gestión eficiente de arrays multidimensionales. Además proporciona distintas utilidades relacionadas con el algebra lineal, la generación de números aleatorios, la transformada de Fourier, etc.\n",
        "\n",
        "http://www.numpy.org/"
      ]
    },
    {
      "cell_type": "code",
      "execution_count": 2,
      "metadata": {
        "id": "Ra5vU9fnz2j6",
        "outputId": "93f4dc82-786e-43f8-cb8f-9eec274d93f9",
        "colab": {
          "base_uri": "https://localhost:8080/"
        }
      },
      "outputs": [
        {
          "output_type": "execute_result",
          "data": {
            "text/plain": [
              "array([1, 2, 3, 4, 5, 6, 7, 8, 9])"
            ]
          },
          "metadata": {},
          "execution_count": 2
        }
      ],
      "source": [
        "import numpy as np\n",
        "\n",
        "# convertir una lista en un array\n",
        "l = [1, 2, 3, 4, 5, 6, 7, 8, 9]\n",
        "x = np.array(l)\n",
        "x"
      ]
    },
    {
      "cell_type": "code",
      "execution_count": 3,
      "metadata": {
        "id": "JJ-cXKM_z2j7",
        "outputId": "82c470e4-9e3b-4fef-dbc6-2f64d6ccd102",
        "colab": {
          "base_uri": "https://localhost:8080/"
        }
      },
      "outputs": [
        {
          "output_type": "execute_result",
          "data": {
            "text/plain": [
              "array([4, 5, 6])"
            ]
          },
          "metadata": {},
          "execution_count": 3
        }
      ],
      "source": [
        "# Pasamos la lista directamente\n",
        "y = np.array([4, 5, 6])\n",
        "y"
      ]
    },
    {
      "cell_type": "code",
      "execution_count": 4,
      "metadata": {
        "id": "3HFx1qzPz2j7",
        "outputId": "dbbc04f5-113e-403e-a28d-4cfa65ea14f2",
        "colab": {
          "base_uri": "https://localhost:8080/"
        }
      },
      "outputs": [
        {
          "output_type": "execute_result",
          "data": {
            "text/plain": [
              "array([[ 7,  8,  9],\n",
              "       [10, 11, 12]])"
            ]
          },
          "metadata": {},
          "execution_count": 4
        }
      ],
      "source": [
        "# Pasamos una lista de listas para crear un array multidimensional (bi en este caso)\n",
        "z = np.array([[7, 8, 9], [10, 11, 12]])\n",
        "z"
      ]
    },
    {
      "cell_type": "code",
      "execution_count": 5,
      "metadata": {
        "id": "q88rjIA5z2j8",
        "outputId": "159fbfb3-eeb9-4676-af4e-665896ad9092",
        "colab": {
          "base_uri": "https://localhost:8080/"
        }
      },
      "outputs": [
        {
          "output_type": "execute_result",
          "data": {
            "text/plain": [
              "(1, 9)"
            ]
          },
          "metadata": {},
          "execution_count": 5
        }
      ],
      "source": [
        "x = np.array([[1, 2, 3, 4, 5, 6, 7, 8, 9]])\n",
        "x.shape"
      ]
    },
    {
      "cell_type": "code",
      "execution_count": 6,
      "metadata": {
        "id": "34G_pXVSz2j8",
        "outputId": "a13376c0-beb8-44a6-e356-693c1087e1ca",
        "colab": {
          "base_uri": "https://localhost:8080/"
        }
      },
      "outputs": [
        {
          "output_type": "execute_result",
          "data": {
            "text/plain": [
              "array([[1, 2, 3],\n",
              "       [4, 5, 6],\n",
              "       [7, 8, 9]])"
            ]
          },
          "metadata": {},
          "execution_count": 6
        }
      ],
      "source": [
        "# cambiar la forma de un array\n",
        "b = x.reshape(3,3)\n",
        "b"
      ]
    },
    {
      "cell_type": "code",
      "execution_count": 7,
      "metadata": {
        "id": "nYX2auQ-z2j8",
        "outputId": "ecd0ebf4-7c6d-40ea-f333-4f7b02a2ea11",
        "colab": {
          "base_uri": "https://localhost:8080/"
        }
      },
      "outputs": [
        {
          "output_type": "execute_result",
          "data": {
            "text/plain": [
              "(3, 3)"
            ]
          },
          "metadata": {},
          "execution_count": 7
        }
      ],
      "source": [
        "# dimensiones\n",
        "b.shape"
      ]
    },
    {
      "cell_type": "code",
      "execution_count": 8,
      "metadata": {
        "id": "8Gqy1aWwz2j9",
        "outputId": "577842fa-24a0-4d87-fcaf-688ee62a40a8",
        "colab": {
          "base_uri": "https://localhost:8080/"
        }
      },
      "outputs": [
        {
          "output_type": "stream",
          "name": "stdout",
          "text": [
            "1\n",
            "2\n",
            "9\n"
          ]
        }
      ],
      "source": [
        "# acceso a elementos\n",
        "print(b[0,0])\n",
        "print(b[0,1])\n",
        "print(b[2,2])"
      ]
    },
    {
      "cell_type": "code",
      "execution_count": 9,
      "metadata": {
        "id": "QbKxe8N3z2j9",
        "outputId": "d7ec4452-9338-47cc-88c0-d3f1dc5922af",
        "colab": {
          "base_uri": "https://localhost:8080/"
        }
      },
      "outputs": [
        {
          "output_type": "execute_result",
          "data": {
            "text/plain": [
              "array([[1, 2, 3],\n",
              "       [4, 5, 6]])"
            ]
          },
          "metadata": {},
          "execution_count": 9
        }
      ],
      "source": [
        "# vistas de subarrays\n",
        "b[0:2, 0:3]"
      ]
    },
    {
      "cell_type": "code",
      "execution_count": 10,
      "metadata": {
        "id": "rI4JP7Zsz2j9",
        "outputId": "2bafe011-c3e3-49c4-a50c-15a9dbafd2c1",
        "colab": {
          "base_uri": "https://localhost:8080/"
        }
      },
      "outputs": [
        {
          "output_type": "execute_result",
          "data": {
            "text/plain": [
              "array([[0., 0., 0., 0., 0.],\n",
              "       [0., 0., 0., 0., 0.]])"
            ]
          },
          "metadata": {},
          "execution_count": 10
        }
      ],
      "source": [
        "# arrays inicializados\n",
        "np.zeros((2,5))"
      ]
    },
    {
      "cell_type": "code",
      "execution_count": 11,
      "metadata": {
        "id": "fNgf4f2bz2j-",
        "outputId": "4b9ea4b9-0f4b-4422-a216-84e12f870b33",
        "colab": {
          "base_uri": "https://localhost:8080/"
        }
      },
      "outputs": [
        {
          "output_type": "execute_result",
          "data": {
            "text/plain": [
              "array([[1., 1., 1., 1., 1.],\n",
              "       [1., 1., 1., 1., 1.]])"
            ]
          },
          "metadata": {},
          "execution_count": 11
        }
      ],
      "source": [
        "np.ones((2,5))"
      ]
    },
    {
      "cell_type": "code",
      "execution_count": 12,
      "metadata": {
        "id": "zE0kwm8Gz2j-",
        "outputId": "ac1039fe-9c56-46bc-b0ec-bce256f51dfc",
        "colab": {
          "base_uri": "https://localhost:8080/"
        }
      },
      "outputs": [
        {
          "output_type": "execute_result",
          "data": {
            "text/plain": [
              "array([[1., 0., 0., 0., 0.],\n",
              "       [0., 1., 0., 0., 0.],\n",
              "       [0., 0., 1., 0., 0.],\n",
              "       [0., 0., 0., 1., 0.],\n",
              "       [0., 0., 0., 0., 1.]])"
            ]
          },
          "metadata": {},
          "execution_count": 12
        }
      ],
      "source": [
        "np.eye(5,5)"
      ]
    },
    {
      "cell_type": "code",
      "execution_count": 13,
      "metadata": {
        "id": "S2gz7ppMz2j-",
        "outputId": "9467b628-3f8f-4333-b54d-54b9c7f4be32",
        "colab": {
          "base_uri": "https://localhost:8080/"
        }
      },
      "outputs": [
        {
          "output_type": "execute_result",
          "data": {
            "text/plain": [
              "array([[1, 2, 3],\n",
              "       [4, 5, 6],\n",
              "       [7, 8, 9]])"
            ]
          },
          "metadata": {},
          "execution_count": 13
        }
      ],
      "source": [
        "# arange devuelve un array con los valores del 1 al 9\n",
        "m = np.arange(1,10).reshape(3,3)\n",
        "m"
      ]
    },
    {
      "cell_type": "markdown",
      "metadata": {
        "id": "d0qBc-9lz2j_"
      },
      "source": [
        "## Combinando Arrays"
      ]
    },
    {
      "cell_type": "code",
      "execution_count": 14,
      "metadata": {
        "id": "HzyLXrNEz2j_",
        "outputId": "3c5fb3d2-1fbb-4057-9467-880b555524d5",
        "colab": {
          "base_uri": "https://localhost:8080/"
        }
      },
      "outputs": [
        {
          "output_type": "execute_result",
          "data": {
            "text/plain": [
              "array([[1, 1, 1],\n",
              "       [1, 1, 1]])"
            ]
          },
          "metadata": {},
          "execution_count": 14
        }
      ],
      "source": [
        "p = np.ones([2, 3], int)\n",
        "p"
      ]
    },
    {
      "cell_type": "markdown",
      "metadata": {
        "id": "WYEntisCz2j_"
      },
      "source": [
        "Con `vstack` apilamos arrays verticalmente (por filas)."
      ]
    },
    {
      "cell_type": "code",
      "execution_count": 15,
      "metadata": {
        "id": "eVKcHjxwz2j_",
        "outputId": "8eb21d05-a9ec-4c87-9ed6-d54f7571dcd4",
        "colab": {
          "base_uri": "https://localhost:8080/"
        }
      },
      "outputs": [
        {
          "output_type": "execute_result",
          "data": {
            "text/plain": [
              "array([[1, 1, 1],\n",
              "       [1, 1, 1],\n",
              "       [2, 2, 2],\n",
              "       [2, 2, 2]])"
            ]
          },
          "metadata": {},
          "execution_count": 15
        }
      ],
      "source": [
        "np.vstack([p, 2*p])"
      ]
    },
    {
      "cell_type": "markdown",
      "metadata": {
        "id": "d_b49h2vz2j_"
      },
      "source": [
        "Por el contrario `hstack` apila arrays en secuencia horizontal (por columnas)."
      ]
    },
    {
      "cell_type": "code",
      "execution_count": 16,
      "metadata": {
        "id": "QRvVvTCIz2j_",
        "outputId": "c67562be-e8ee-4d9f-ea5c-41263b519457",
        "colab": {
          "base_uri": "https://localhost:8080/"
        }
      },
      "outputs": [
        {
          "output_type": "execute_result",
          "data": {
            "text/plain": [
              "array([[1, 1, 1, 2, 2, 2],\n",
              "       [1, 1, 1, 2, 2, 2]])"
            ]
          },
          "metadata": {},
          "execution_count": 16
        }
      ],
      "source": [
        "np.hstack([p, 2*p])"
      ]
    },
    {
      "cell_type": "markdown",
      "metadata": {
        "id": "bzUDA37Xz2kA"
      },
      "source": [
        "## Operaciones"
      ]
    },
    {
      "cell_type": "markdown",
      "metadata": {
        "id": "gShS6IOCz2kA"
      },
      "source": [
        "Los operadores aritméticos `+`, `-`, `*`, `/` y `**` permiten realizar operaciones **elemento a elemento** con arrays."
      ]
    },
    {
      "cell_type": "code",
      "execution_count": 17,
      "metadata": {
        "id": "wxyBSGuYz2kA",
        "outputId": "9b27a653-afc1-41b3-8b58-472715ae39c0",
        "colab": {
          "base_uri": "https://localhost:8080/"
        }
      },
      "outputs": [
        {
          "output_type": "stream",
          "name": "stdout",
          "text": [
            "[1 2 3]\n",
            "[4 5 6]\n",
            "[5 7 9]\n",
            "[-3 -3 -3]\n"
          ]
        }
      ],
      "source": [
        "x = np.array([1, 2, 3])\n",
        "y = np.array([4, 5, 6])\n",
        "\n",
        "print(x)\n",
        "print(y)\n",
        "print(x + y) # suma elemento a elemento     [1 2 3] + [4 5 6] = [5  7  9]\n",
        "print(x - y) # resta elemento a elemento [1 2 3] - [4 5 6] = [-3 -3 -3]"
      ]
    },
    {
      "cell_type": "code",
      "execution_count": 18,
      "metadata": {
        "id": "RcrM8QiIz2kA",
        "outputId": "3d3284a4-5ea4-43bb-a136-ca0f50f248a5",
        "colab": {
          "base_uri": "https://localhost:8080/"
        }
      },
      "outputs": [
        {
          "output_type": "stream",
          "name": "stdout",
          "text": [
            "[ 4 10 18]\n",
            "[0.25 0.4  0.5 ]\n"
          ]
        }
      ],
      "source": [
        "print(x * y) # multiplicación elemento a elemento  [1 2 3] * [4 5 6] = [4  10  18]\n",
        "print(x / y) # división elemento a elemento         [1 2 3] / [4 5 6] = [0.25  0.4  0.5]"
      ]
    },
    {
      "cell_type": "code",
      "execution_count": 19,
      "metadata": {
        "id": "FgmvQBtHz2kA",
        "outputId": "9e03066b-aaf8-47a7-bf24-581fa7091eb1",
        "colab": {
          "base_uri": "https://localhost:8080/"
        }
      },
      "outputs": [
        {
          "output_type": "stream",
          "name": "stdout",
          "text": [
            "[1 4 9]\n"
          ]
        }
      ],
      "source": [
        "print(x**2) # potencia elemento a elemento  [1 2 3] ^2 =  [1 4 9]"
      ]
    },
    {
      "cell_type": "code",
      "execution_count": 20,
      "metadata": {
        "id": "2DJ_VMLyz2kA",
        "outputId": "a53dca7c-1151-4361-89ad-6e0fefb70f05",
        "colab": {
          "base_uri": "https://localhost:8080/"
        }
      },
      "outputs": [
        {
          "output_type": "execute_result",
          "data": {
            "text/plain": [
              "array([[1, 2, 3],\n",
              "       [4, 5, 6]])"
            ]
          },
          "metadata": {},
          "execution_count": 20
        }
      ],
      "source": [
        "z = np.vstack([x, y])\n",
        "z"
      ]
    },
    {
      "cell_type": "code",
      "execution_count": 21,
      "metadata": {
        "id": "6hzV8sDaz2kB",
        "outputId": "b18253f4-2db6-492e-d784-087b896925c1",
        "colab": {
          "base_uri": "https://localhost:8080/"
        }
      },
      "outputs": [
        {
          "output_type": "execute_result",
          "data": {
            "text/plain": [
              "array([5, 7, 9])"
            ]
          },
          "metadata": {},
          "execution_count": 21
        }
      ],
      "source": [
        "# suma por filas\n",
        "z.sum(axis = 0)"
      ]
    },
    {
      "cell_type": "code",
      "execution_count": 22,
      "metadata": {
        "id": "XPk7d9_oz2kB",
        "outputId": "166296e4-af69-4ea5-9377-7e02e6bbf69d",
        "colab": {
          "base_uri": "https://localhost:8080/"
        }
      },
      "outputs": [
        {
          "output_type": "execute_result",
          "data": {
            "text/plain": [
              "array([ 6, 15])"
            ]
          },
          "metadata": {},
          "execution_count": 22
        }
      ],
      "source": [
        "# suma por columnas\n",
        "z.sum(axis = 1)"
      ]
    },
    {
      "cell_type": "code",
      "execution_count": 23,
      "metadata": {
        "id": "t0ZM9D8-z2kB",
        "outputId": "6c203c51-0b86-428c-f1ca-c9973cf2a5c4",
        "colab": {
          "base_uri": "https://localhost:8080/"
        }
      },
      "outputs": [
        {
          "output_type": "execute_result",
          "data": {
            "text/plain": [
              "21"
            ]
          },
          "metadata": {},
          "execution_count": 23
        }
      ],
      "source": [
        "# suma de todos los elementos\n",
        "z.sum()"
      ]
    },
    {
      "cell_type": "code",
      "execution_count": 24,
      "metadata": {
        "id": "D9ZPdoxmz2kB",
        "outputId": "2d3f489c-d596-45ac-fa33-20af1ad444ec",
        "colab": {
          "base_uri": "https://localhost:8080/"
        }
      },
      "outputs": [
        {
          "output_type": "execute_result",
          "data": {
            "text/plain": [
              "32"
            ]
          },
          "metadata": {},
          "execution_count": 24
        }
      ],
      "source": [
        "# producto vectorial de dos vectores o matrices\n",
        "np.dot(x, y)"
      ]
    },
    {
      "cell_type": "markdown",
      "metadata": {
        "id": "nYLKpVx_z2kB"
      },
      "source": [
        "Los operadores de comparación `>`, `<`, `<=`, `>=`, `==` y `!=` también funcionan elemento a elemento."
      ]
    },
    {
      "cell_type": "code",
      "execution_count": 25,
      "metadata": {
        "id": "gSLcOEq3z2kB",
        "outputId": "9a2412fc-237b-4338-ba67-ab0c0128afd5",
        "colab": {
          "base_uri": "https://localhost:8080/"
        }
      },
      "outputs": [
        {
          "output_type": "execute_result",
          "data": {
            "text/plain": [
              "array([ True,  True,  True])"
            ]
          },
          "metadata": {},
          "execution_count": 25
        }
      ],
      "source": [
        "x < y"
      ]
    },
    {
      "cell_type": "code",
      "execution_count": 26,
      "metadata": {
        "id": "7kDfnqf5z2kC",
        "outputId": "e38990d7-bcb5-4e7e-f145-d016a96c248b",
        "colab": {
          "base_uri": "https://localhost:8080/"
        }
      },
      "outputs": [
        {
          "output_type": "execute_result",
          "data": {
            "text/plain": [
              "2"
            ]
          },
          "metadata": {},
          "execution_count": 26
        }
      ],
      "source": [
        "sum(x > 1)"
      ]
    },
    {
      "cell_type": "markdown",
      "metadata": {
        "id": "gXtfzeC2z2kC"
      },
      "source": [
        "<br>\n",
        "Producto matricial: \n",
        "\n",
        "$ \\begin{bmatrix}x_1 \\ x_2 \\ x_3\\end{bmatrix}\n",
        "\\cdot\n",
        "\\begin{bmatrix}y_1 \\\\ y_2 \\\\ y_3\\end{bmatrix}\n",
        "= x_1 y_1 + x_2 y_2 + x_3 y_3$"
      ]
    },
    {
      "cell_type": "code",
      "execution_count": 27,
      "metadata": {
        "id": "mHm4wt6cz2kC",
        "outputId": "42bf8b88-606c-46d8-a2b2-fff86917840f",
        "colab": {
          "base_uri": "https://localhost:8080/"
        }
      },
      "outputs": [
        {
          "output_type": "execute_result",
          "data": {
            "text/plain": [
              "32"
            ]
          },
          "metadata": {},
          "execution_count": 27
        }
      ],
      "source": [
        "x.dot(y) # producto vectorial  1*4 + 2*5 + 3*6"
      ]
    },
    {
      "cell_type": "markdown",
      "metadata": {
        "id": "tmKi9DAfz2kC"
      },
      "source": [
        "For 2-D arrays it is the matrix product:"
      ]
    },
    {
      "cell_type": "code",
      "execution_count": 28,
      "metadata": {
        "id": "wXyTlOJpz2kC",
        "outputId": "3957d829-95c9-4b47-edaa-ebe002ad5281",
        "colab": {
          "base_uri": "https://localhost:8080/"
        }
      },
      "outputs": [
        {
          "output_type": "execute_result",
          "data": {
            "text/plain": [
              "array([[4, 1],\n",
              "       [2, 2]])"
            ]
          },
          "metadata": {},
          "execution_count": 28
        }
      ],
      "source": [
        "a = [[1, 0], [0, 1]]\n",
        "b = [[4, 1], [2, 2]]\n",
        "np.dot(a, b)"
      ]
    },
    {
      "cell_type": "markdown",
      "metadata": {
        "id": "bObjdJ7ez2kC"
      },
      "source": [
        "Transpuesta de una matriz"
      ]
    },
    {
      "cell_type": "code",
      "execution_count": 29,
      "metadata": {
        "id": "_pDOpnpoz2kC",
        "outputId": "e4130e6a-14de-4755-fc29-66a176f39ec9",
        "colab": {
          "base_uri": "https://localhost:8080/"
        }
      },
      "outputs": [
        {
          "output_type": "stream",
          "name": "stdout",
          "text": [
            "[4 5 6]\n"
          ]
        },
        {
          "output_type": "execute_result",
          "data": {
            "text/plain": [
              "array([[ 4,  5,  6],\n",
              "       [16, 25, 36]])"
            ]
          },
          "metadata": {},
          "execution_count": 29
        }
      ],
      "source": [
        "print(y)\n",
        "z = np.array([y, y**2])\n",
        "z"
      ]
    },
    {
      "cell_type": "code",
      "execution_count": 30,
      "metadata": {
        "id": "k7cHK9H4z2kD",
        "outputId": "f2a00f55-97d7-4f70-c230-c4e9f39efc6b",
        "colab": {
          "base_uri": "https://localhost:8080/"
        }
      },
      "outputs": [
        {
          "output_type": "execute_result",
          "data": {
            "text/plain": [
              "(2, 3)"
            ]
          },
          "metadata": {},
          "execution_count": 30
        }
      ],
      "source": [
        "z.shape"
      ]
    },
    {
      "cell_type": "code",
      "execution_count": 31,
      "metadata": {
        "id": "pnepPAR8z2kD",
        "outputId": "49455409-5e86-4303-d1e5-79914aedce34",
        "colab": {
          "base_uri": "https://localhost:8080/"
        }
      },
      "outputs": [
        {
          "output_type": "execute_result",
          "data": {
            "text/plain": [
              "array([[ 4, 16],\n",
              "       [ 5, 25],\n",
              "       [ 6, 36]])"
            ]
          },
          "metadata": {},
          "execution_count": 31
        }
      ],
      "source": [
        "z.T"
      ]
    },
    {
      "cell_type": "code",
      "execution_count": 32,
      "metadata": {
        "id": "5dYJG1Y_z2kD",
        "outputId": "75fae8fe-2660-401b-8021-d4d6829c5b36",
        "colab": {
          "base_uri": "https://localhost:8080/"
        }
      },
      "outputs": [
        {
          "output_type": "execute_result",
          "data": {
            "text/plain": [
              "(3, 2)"
            ]
          },
          "metadata": {},
          "execution_count": 32
        }
      ],
      "source": [
        "z.T.shape"
      ]
    },
    {
      "cell_type": "markdown",
      "metadata": {
        "id": "R90OYzxtz2kD"
      },
      "source": [
        "<br>\n",
        "Con `.dtype` vemos el tipo de datos de los elementos de un array."
      ]
    },
    {
      "cell_type": "code",
      "execution_count": 33,
      "metadata": {
        "id": "5-973KoEz2kD",
        "outputId": "cbf061da-5978-4fce-f9c4-7329f2eca84c",
        "colab": {
          "base_uri": "https://localhost:8080/"
        }
      },
      "outputs": [
        {
          "output_type": "execute_result",
          "data": {
            "text/plain": [
              "dtype('int64')"
            ]
          },
          "metadata": {},
          "execution_count": 33
        }
      ],
      "source": [
        "z.dtype"
      ]
    },
    {
      "cell_type": "markdown",
      "metadata": {
        "id": "vAkPDvBVz2kD"
      },
      "source": [
        "<br>\n",
        "Y con `.astype` hacemos un molde para convertirlos a un tipo específico."
      ]
    },
    {
      "cell_type": "code",
      "execution_count": 34,
      "metadata": {
        "id": "VVK4j7Vlz2kD",
        "outputId": "c8eed57b-1cb2-4580-ddee-28fdfd8f0ca2",
        "colab": {
          "base_uri": "https://localhost:8080/"
        }
      },
      "outputs": [
        {
          "output_type": "stream",
          "name": "stdout",
          "text": [
            "float32\n"
          ]
        },
        {
          "output_type": "execute_result",
          "data": {
            "text/plain": [
              "array([[ 4.,  5.,  6.],\n",
              "       [16., 25., 36.]], dtype=float32)"
            ]
          },
          "metadata": {},
          "execution_count": 34
        }
      ],
      "source": [
        "z = z.astype('f')\n",
        "print(z.dtype)\n",
        "z"
      ]
    },
    {
      "cell_type": "markdown",
      "metadata": {
        "id": "FQAfL04iz2kD"
      },
      "source": [
        "## Funciones matemáticas\n"
      ]
    },
    {
      "cell_type": "markdown",
      "metadata": {
        "id": "itRopImmz2kE"
      },
      "source": [
        "Numpy tiene muchas funciones matemáticas para tratar arrays numéricos que nos permite realizar diversas operaciones de forma muy sencilla. "
      ]
    },
    {
      "cell_type": "code",
      "execution_count": 35,
      "metadata": {
        "id": "OL2ZH90Kz2kE"
      },
      "outputs": [],
      "source": [
        "a = np.array([-4, -2, 1, 3, 5])"
      ]
    },
    {
      "cell_type": "code",
      "execution_count": 36,
      "metadata": {
        "id": "SmXKXy-Az2kE",
        "outputId": "b638519d-5a4b-42de-d94b-52c363a28304",
        "colab": {
          "base_uri": "https://localhost:8080/"
        }
      },
      "outputs": [
        {
          "output_type": "execute_result",
          "data": {
            "text/plain": [
              "3"
            ]
          },
          "metadata": {},
          "execution_count": 36
        }
      ],
      "source": [
        "a.sum()"
      ]
    },
    {
      "cell_type": "code",
      "execution_count": 37,
      "metadata": {
        "id": "XfOB6TZYz2kE",
        "outputId": "6eb80e8f-d991-4a49-9ad1-3047e0dfd961",
        "colab": {
          "base_uri": "https://localhost:8080/"
        }
      },
      "outputs": [
        {
          "output_type": "execute_result",
          "data": {
            "text/plain": [
              "5"
            ]
          },
          "metadata": {},
          "execution_count": 37
        }
      ],
      "source": [
        "a.max()"
      ]
    },
    {
      "cell_type": "code",
      "execution_count": 38,
      "metadata": {
        "id": "JzzE2xEuz2kE",
        "outputId": "bd655570-9486-429a-8282-124d0a4541d9",
        "colab": {
          "base_uri": "https://localhost:8080/"
        }
      },
      "outputs": [
        {
          "output_type": "execute_result",
          "data": {
            "text/plain": [
              "-4"
            ]
          },
          "metadata": {},
          "execution_count": 38
        }
      ],
      "source": [
        "a.min()"
      ]
    },
    {
      "cell_type": "code",
      "execution_count": 39,
      "metadata": {
        "id": "N6rwTifGz2kE",
        "outputId": "d95d3aad-66ff-42e7-8dd8-db175f6b4695",
        "colab": {
          "base_uri": "https://localhost:8080/"
        }
      },
      "outputs": [
        {
          "output_type": "execute_result",
          "data": {
            "text/plain": [
              "0.6"
            ]
          },
          "metadata": {},
          "execution_count": 39
        }
      ],
      "source": [
        "a.mean()"
      ]
    },
    {
      "cell_type": "code",
      "execution_count": 40,
      "metadata": {
        "id": "omHB8f6Kz2kE",
        "outputId": "b5e3e8c8-ac9a-4408-d297-ca25eb756cff",
        "colab": {
          "base_uri": "https://localhost:8080/"
        }
      },
      "outputs": [
        {
          "output_type": "execute_result",
          "data": {
            "text/plain": [
              "3.2619012860600183"
            ]
          },
          "metadata": {},
          "execution_count": 40
        }
      ],
      "source": [
        "a.std()"
      ]
    },
    {
      "cell_type": "code",
      "execution_count": 41,
      "metadata": {
        "id": "AOyO6KDQz2kE",
        "outputId": "8444250a-2b98-4bf1-8ac6-83f56751ce41",
        "colab": {
          "base_uri": "https://localhost:8080/"
        }
      },
      "outputs": [
        {
          "output_type": "execute_result",
          "data": {
            "text/plain": [
              "array([ 0.7568025 , -0.90929743,  0.84147098,  0.14112001, -0.95892427])"
            ]
          },
          "metadata": {},
          "execution_count": 41
        }
      ],
      "source": [
        "np.sin(a)"
      ]
    },
    {
      "cell_type": "markdown",
      "metadata": {
        "id": "WDd4UWXDz2kF"
      },
      "source": [
        "<br>\n",
        "`argmax` y `argmin` devuelven el índice de los valores máximo y mínimo resp. del array."
      ]
    },
    {
      "cell_type": "code",
      "execution_count": 42,
      "metadata": {
        "id": "8IomyYqFz2kF",
        "outputId": "a732c004-c251-4ed6-e272-6e6f130ee463",
        "colab": {
          "base_uri": "https://localhost:8080/"
        }
      },
      "outputs": [
        {
          "output_type": "execute_result",
          "data": {
            "text/plain": [
              "4"
            ]
          },
          "metadata": {},
          "execution_count": 42
        }
      ],
      "source": [
        "a.argmax()"
      ]
    },
    {
      "cell_type": "code",
      "execution_count": 43,
      "metadata": {
        "id": "BQDmQuO8z2kF",
        "outputId": "27353c22-bb95-4fc4-c4b5-89c7faa21d21",
        "colab": {
          "base_uri": "https://localhost:8080/"
        }
      },
      "outputs": [
        {
          "output_type": "execute_result",
          "data": {
            "text/plain": [
              "0"
            ]
          },
          "metadata": {},
          "execution_count": 43
        }
      ],
      "source": [
        "a.argmin()"
      ]
    },
    {
      "cell_type": "markdown",
      "metadata": {
        "id": "tqont7Dcz2kF"
      },
      "source": [
        "## Acceso y selección de elementos de una matriz (indexing and slicing)"
      ]
    },
    {
      "cell_type": "markdown",
      "metadata": {
        "id": "ETRpa6C2z2kF"
      },
      "source": [
        "Crearemos un array con los cuadrados de los números del 0 al 12"
      ]
    },
    {
      "cell_type": "code",
      "execution_count": 44,
      "metadata": {
        "id": "ajzxO_j7z2kF",
        "outputId": "259f2530-0213-4067-ca10-6cecfcdc4410",
        "colab": {
          "base_uri": "https://localhost:8080/"
        }
      },
      "outputs": [
        {
          "output_type": "execute_result",
          "data": {
            "text/plain": [
              "array([  0,   1,   4,   9,  16,  25,  36,  49,  64,  81, 100, 121, 144])"
            ]
          },
          "metadata": {},
          "execution_count": 44
        }
      ],
      "source": [
        "s = np.arange(13)**2\n",
        "s"
      ]
    },
    {
      "cell_type": "markdown",
      "metadata": {
        "id": "VQjHb44Nz2kF"
      },
      "source": [
        "<br>\n",
        "Con los corchetes podemos recuperar el elemento de la posición indicada, recordando que la primera posición es la 0. "
      ]
    },
    {
      "cell_type": "code",
      "execution_count": 45,
      "metadata": {
        "id": "bikPKngaz2kF",
        "outputId": "79c9b173-7f65-428f-9dae-74d7cf126fda",
        "colab": {
          "base_uri": "https://localhost:8080/"
        }
      },
      "outputs": [
        {
          "output_type": "execute_result",
          "data": {
            "text/plain": [
              "(0, 16, 144)"
            ]
          },
          "metadata": {},
          "execution_count": 45
        }
      ],
      "source": [
        "s[0], s[4], s[-1]"
      ]
    },
    {
      "cell_type": "markdown",
      "metadata": {
        "id": "3Xd2tt0jz2kG"
      },
      "source": [
        "<br>\n",
        "Si usamos dos valores separados por `:` estaremos indicando que acceda a un rango de posiciones: `array[start:stop]`. Ten en cuenta que accederá hasta desde `start` hasta `stop - 1`\n",
        "\n",
        "\n",
        "Si dejamos `start` o `stop` vacíos se usará el principio o el final del array respectivamente. "
      ]
    },
    {
      "cell_type": "code",
      "execution_count": 46,
      "metadata": {
        "id": "EE_8Balhz2kG",
        "outputId": "fe7b0657-9240-40f5-b88e-20bb04631187",
        "colab": {
          "base_uri": "https://localhost:8080/"
        }
      },
      "outputs": [
        {
          "output_type": "execute_result",
          "data": {
            "text/plain": [
              "array([ 1,  4,  9, 16])"
            ]
          },
          "metadata": {},
          "execution_count": 46
        }
      ],
      "source": [
        "s[1:5]"
      ]
    },
    {
      "cell_type": "markdown",
      "metadata": {
        "id": "T3Gk8AJKz2kG"
      },
      "source": [
        "<br>\n",
        "Si ponemos un valor negativo como elemento de `start` y dejamos el segundo valor vacío, recuperará los `start` elementos finales."
      ]
    },
    {
      "cell_type": "code",
      "execution_count": 47,
      "metadata": {
        "id": "6bPjayyQz2kG",
        "outputId": "aad06abd-e3c6-4176-ae01-be1c3ef29e35",
        "colab": {
          "base_uri": "https://localhost:8080/"
        }
      },
      "outputs": [
        {
          "output_type": "execute_result",
          "data": {
            "text/plain": [
              "array([ 81, 100, 121, 144])"
            ]
          },
          "metadata": {},
          "execution_count": 47
        }
      ],
      "source": [
        "s[-4:]"
      ]
    },
    {
      "cell_type": "markdown",
      "metadata": {
        "id": "G9z68t39z2kG"
      },
      "source": [
        "<br>\n",
        "Con la notación `array[start:stop:stepsize]` en el que `stepsize` nos indica el tamaño del salto/paso para recorrer los índices entre `start` y `stop`\n"
      ]
    },
    {
      "cell_type": "code",
      "execution_count": 48,
      "metadata": {
        "id": "LnVhwxbZz2kG",
        "outputId": "c78082eb-6c12-4bdf-f96f-61ec415ef1fd",
        "colab": {
          "base_uri": "https://localhost:8080/"
        }
      },
      "outputs": [
        {
          "output_type": "execute_result",
          "data": {
            "text/plain": [
              "array([ 4, 25, 64])"
            ]
          },
          "metadata": {},
          "execution_count": 48
        }
      ],
      "source": [
        "s[2:9:3]"
      ]
    },
    {
      "cell_type": "markdown",
      "metadata": {
        "id": "wQpRXUp1z2kG"
      },
      "source": [
        "<br>\n",
        "Esto puede complicarse, aquí empezamos por el quinto elemento desde atrás y contamos hacia atrás de dos en dos hasta llegar al principio del array."
      ]
    },
    {
      "cell_type": "code",
      "execution_count": 49,
      "metadata": {
        "id": "ldLTUW5Yz2kH",
        "outputId": "580750e4-7c43-4ab1-bec7-04206cdd5eff",
        "colab": {
          "base_uri": "https://localhost:8080/"
        }
      },
      "outputs": [
        {
          "output_type": "execute_result",
          "data": {
            "text/plain": [
              "array([64, 36, 16,  4,  0])"
            ]
          },
          "metadata": {},
          "execution_count": 49
        }
      ],
      "source": [
        "s[-5::-2]"
      ]
    },
    {
      "cell_type": "markdown",
      "metadata": {
        "id": "1FZWJU2uz2kH"
      },
      "source": [
        "<br>\n",
        "Consideremos ahora un array multidimensional."
      ]
    },
    {
      "cell_type": "code",
      "execution_count": 50,
      "metadata": {
        "id": "tuYvCbysz2kH",
        "outputId": "2a8971a0-9478-4bce-df87-11d372468858",
        "colab": {
          "base_uri": "https://localhost:8080/"
        }
      },
      "outputs": [
        {
          "output_type": "execute_result",
          "data": {
            "text/plain": [
              "array([[ 0,  1,  2,  3,  4,  5],\n",
              "       [ 6,  7,  8,  9, 10, 11],\n",
              "       [12, 13, 14, 15, 16, 17],\n",
              "       [18, 19, 20, 21, 22, 23],\n",
              "       [24, 25, 26, 27, 28, 29],\n",
              "       [30, 31, 32, 33, 34, 35]])"
            ]
          },
          "metadata": {},
          "execution_count": 50
        }
      ],
      "source": [
        "r = np.arange(36)\n",
        "r.resize((6, 6))\n",
        "r"
      ]
    },
    {
      "cell_type": "markdown",
      "metadata": {
        "id": "aDgMw2DCz2kH"
      },
      "source": [
        "<br>\n",
        "Indexamos un elemento indicando la fila y la columna como sigue: `array[row, column]`"
      ]
    },
    {
      "cell_type": "code",
      "execution_count": 51,
      "metadata": {
        "id": "ZEbbxqn6z2kH",
        "outputId": "1eb8425c-a045-4303-e618-69d20012e73e",
        "colab": {
          "base_uri": "https://localhost:8080/"
        }
      },
      "outputs": [
        {
          "output_type": "execute_result",
          "data": {
            "text/plain": [
              "14"
            ]
          },
          "metadata": {},
          "execution_count": 51
        }
      ],
      "source": [
        "r[2, 2]"
      ]
    },
    {
      "cell_type": "markdown",
      "metadata": {
        "id": "mXpuTqMvz2kH"
      },
      "source": [
        "<br>\n",
        "En cualquiera de las dimensiones podemos usar : para selecionar un rango de filas/columnas.  \n",
        "\n",
        "En inglés a esta selección se le llama 'slicing' porque sacamos rebanadas o lonchas de la matriz."
      ]
    },
    {
      "cell_type": "code",
      "execution_count": 52,
      "metadata": {
        "id": "x-BpKIxzz2kH",
        "outputId": "6e9a4a22-0f29-40d1-8bb8-d0700605e756",
        "colab": {
          "base_uri": "https://localhost:8080/"
        }
      },
      "outputs": [
        {
          "output_type": "execute_result",
          "data": {
            "text/plain": [
              "array([21, 22, 23])"
            ]
          },
          "metadata": {},
          "execution_count": 52
        }
      ],
      "source": [
        "r[3, 3:6]"
      ]
    },
    {
      "cell_type": "markdown",
      "metadata": {
        "id": "yak7I3ELz2kH"
      },
      "source": [
        "<br>\n",
        "De nuevo, esto se puede complicar... \n",
        "\n",
        "Aquí se seleccionan las dos primeras filas, y todas las columnas menos la última. \n",
        "\n",
        "NOTA: La potencia expresiva de la selección de elementos es grande, pero debe usarse con cuidado. Para ello se debe uno asegurar de que selecciona justo lo deseado y que no dificulta la legilibidad."
      ]
    },
    {
      "cell_type": "code",
      "execution_count": 53,
      "metadata": {
        "id": "kkptHOr3z2kI",
        "outputId": "8f4bb2e4-c873-4d59-ad31-36bb3180f59e",
        "colab": {
          "base_uri": "https://localhost:8080/"
        }
      },
      "outputs": [
        {
          "output_type": "execute_result",
          "data": {
            "text/plain": [
              "array([[ 0,  1,  2,  3,  4],\n",
              "       [ 6,  7,  8,  9, 10]])"
            ]
          },
          "metadata": {},
          "execution_count": 53
        }
      ],
      "source": [
        "r[:2, :-1]"
      ]
    },
    {
      "cell_type": "markdown",
      "metadata": {
        "id": "Y5n1d15gz2kI"
      },
      "source": [
        "<br>\n",
        "Aquí seleccionamos la última filay dentro de ella los elementos de dos en dos."
      ]
    },
    {
      "cell_type": "code",
      "execution_count": 54,
      "metadata": {
        "id": "K5AP96Qbz2kI",
        "outputId": "7db1cb1d-1836-46f7-f6fd-e5ec0f00be16",
        "colab": {
          "base_uri": "https://localhost:8080/"
        }
      },
      "outputs": [
        {
          "output_type": "execute_result",
          "data": {
            "text/plain": [
              "array([30, 32, 34])"
            ]
          },
          "metadata": {},
          "execution_count": 54
        }
      ],
      "source": [
        "r[-1, ::2]"
      ]
    },
    {
      "cell_type": "markdown",
      "metadata": {
        "id": "weFyhQHtz2kI"
      },
      "source": [
        "### Indexación con arrays de enteros"
      ]
    },
    {
      "cell_type": "markdown",
      "metadata": {
        "id": "nBwXV0apz2kI"
      },
      "source": [
        "Para indexar en un array bidimensional necesitamos un array indicando las filas de los elementos a indexar y otro indicando las columnas\n",
        "\n",
        "Supongamos el array `r` de 6x6 donde queremos recuperar los elementos (0,0),(1,1),(2,2),(3,3) y (0,0)"
      ]
    },
    {
      "cell_type": "code",
      "execution_count": 55,
      "metadata": {
        "id": "nsYAdoSbz2kI",
        "outputId": "9a55c53a-b1ae-47b1-93c3-908bfb7de1b3",
        "colab": {
          "base_uri": "https://localhost:8080/"
        }
      },
      "outputs": [
        {
          "output_type": "execute_result",
          "data": {
            "text/plain": [
              "array([ 0,  7, 14, 21,  0])"
            ]
          },
          "metadata": {},
          "execution_count": 55
        }
      ],
      "source": [
        "# Filas los elementos 0, 2, 3, 4 y de nuevo el 2 del array\n",
        "filas = [0, 1, 2, 3, 0]\n",
        "columnas = [0, 1, 2, 3, 0]\n",
        "\n",
        "r[filas, columnas]"
      ]
    },
    {
      "cell_type": "markdown",
      "metadata": {
        "id": "hjJ9FquEz2kI"
      },
      "source": [
        "Podemos combinar el indexado con arrays y el \"clásico\""
      ]
    },
    {
      "cell_type": "code",
      "execution_count": 56,
      "metadata": {
        "id": "ex0skRc_z2kI",
        "outputId": "31d69a4b-15ee-4053-9911-7891d69022f0",
        "colab": {
          "base_uri": "https://localhost:8080/"
        }
      },
      "outputs": [
        {
          "output_type": "execute_result",
          "data": {
            "text/plain": [
              "array([[ 0,  1,  2,  3,  4,  5],\n",
              "       [ 6,  7,  8,  9, 10, 11],\n",
              "       [12, 13, 14, 15, 16, 17],\n",
              "       [18, 19, 20, 21, 22, 23],\n",
              "       [ 0,  1,  2,  3,  4,  5]])"
            ]
          },
          "metadata": {},
          "execution_count": 56
        }
      ],
      "source": [
        "r[filas, :]"
      ]
    },
    {
      "cell_type": "markdown",
      "metadata": {
        "id": "9NeJO1adz2kI"
      },
      "source": [
        "### Indexación con un array booleano"
      ]
    },
    {
      "cell_type": "markdown",
      "metadata": {
        "id": "oF9fMUwIz2kJ"
      },
      "source": [
        "Podemos mostrar si cada uno de los elementos de un array cumplen una determinada condición. "
      ]
    },
    {
      "cell_type": "code",
      "execution_count": 57,
      "metadata": {
        "id": "ATSfGR31z2kJ",
        "outputId": "0e753518-73c5-41e9-f67b-050bd2f25376",
        "colab": {
          "base_uri": "https://localhost:8080/"
        }
      },
      "outputs": [
        {
          "output_type": "execute_result",
          "data": {
            "text/plain": [
              "array([[False, False, False, False, False, False],\n",
              "       [False, False, False, False, False, False],\n",
              "       [False, False, False, False, False, False],\n",
              "       [False, False, False, False, False, False],\n",
              "       [False, False, False, False, False, False],\n",
              "       [False,  True,  True,  True,  True,  True]])"
            ]
          },
          "metadata": {},
          "execution_count": 57
        }
      ],
      "source": [
        "r > 30"
      ]
    },
    {
      "cell_type": "code",
      "execution_count": 58,
      "metadata": {
        "id": "bEzJrWr_z2kJ",
        "outputId": "3fbb5e87-a200-424b-9830-455ed91415d0",
        "colab": {
          "base_uri": "https://localhost:8080/"
        }
      },
      "outputs": [
        {
          "output_type": "execute_result",
          "data": {
            "text/plain": [
              "array([[0, 0, 0, 0, 0, 0],\n",
              "       [0, 0, 0, 0, 0, 0],\n",
              "       [0, 0, 0, 0, 0, 0],\n",
              "       [0, 0, 0, 0, 0, 0],\n",
              "       [0, 0, 0, 0, 0, 0],\n",
              "       [0, 1, 1, 1, 1, 1]])"
            ]
          },
          "metadata": {},
          "execution_count": 58
        }
      ],
      "source": [
        "# O sacar el equivalente en ceros y unos\n",
        "b = r > 30\n",
        "b.astype(int)"
      ]
    },
    {
      "cell_type": "markdown",
      "metadata": {
        "id": "aAxaswR1z2kJ"
      },
      "source": [
        "<br>\n",
        "El array booleano lo podemos usar para hacer un indexado condicional (selección de aquellos valores que cumplan una condición). Ver también `np.where`."
      ]
    },
    {
      "cell_type": "code",
      "execution_count": 59,
      "metadata": {
        "id": "fR-0dDMYz2kJ",
        "outputId": "073554c7-9324-40be-bd21-e3d312274002",
        "colab": {
          "base_uri": "https://localhost:8080/"
        }
      },
      "outputs": [
        {
          "output_type": "execute_result",
          "data": {
            "text/plain": [
              "array([31, 32, 33, 34, 35])"
            ]
          },
          "metadata": {},
          "execution_count": 59
        }
      ],
      "source": [
        "r[r > 30]"
      ]
    },
    {
      "cell_type": "code",
      "execution_count": 60,
      "metadata": {
        "id": "GcpHHH9Oz2kJ",
        "outputId": "f255d782-8061-4758-a895-c1f166b14c7b",
        "colab": {
          "base_uri": "https://localhost:8080/"
        }
      },
      "outputs": [
        {
          "output_type": "execute_result",
          "data": {
            "text/plain": [
              "array([ 0,  2,  4,  6,  8, 10, 12, 14, 16, 18, 20, 22, 24, 26, 28, 30, 32,\n",
              "       34])"
            ]
          },
          "metadata": {},
          "execution_count": 60
        }
      ],
      "source": [
        "# Seleccionamos los elementos pares\n",
        "r[r % 2 == 0]"
      ]
    },
    {
      "cell_type": "markdown",
      "metadata": {
        "id": "CyK2SP5Wz2kJ"
      },
      "source": [
        "<br>\n",
        "Podemos usar una selección dentro de una operación de asignación."
      ]
    },
    {
      "cell_type": "code",
      "execution_count": 61,
      "metadata": {
        "id": "_YMewe23z2kJ",
        "outputId": "c7292329-e259-435b-a05f-672c9379dd15",
        "colab": {
          "base_uri": "https://localhost:8080/"
        }
      },
      "outputs": [
        {
          "output_type": "execute_result",
          "data": {
            "text/plain": [
              "array([[ 0,  1,  2,  3,  4,  5],\n",
              "       [ 6,  7,  8,  9, 10, 11],\n",
              "       [12, 13, 14, 15, 16, 17],\n",
              "       [18, 19, 20, 21, 22, 23],\n",
              "       [24, 25, 26, 27, 28, 29],\n",
              "       [30,  0,  0,  0,  0,  0]])"
            ]
          },
          "metadata": {},
          "execution_count": 61
        }
      ],
      "source": [
        "r[r > 30] = 0\n",
        "r"
      ]
    },
    {
      "cell_type": "markdown",
      "metadata": {
        "id": "0hVJcU_8z2kK"
      },
      "source": [
        "## Copia de datos"
      ]
    },
    {
      "cell_type": "markdown",
      "metadata": {
        "id": "NMSnQ4Osz2kK"
      },
      "source": [
        "La copia y modificación de arrays en NumPy ha de hacerse con cuidado. \n",
        "\n",
        "\n",
        "`r2` es una selección de `r`"
      ]
    },
    {
      "cell_type": "code",
      "execution_count": 62,
      "metadata": {
        "id": "lFQJWUwJz2kK",
        "outputId": "b285d7c4-e0e0-4342-a829-7d808fd0602b",
        "colab": {
          "base_uri": "https://localhost:8080/"
        }
      },
      "outputs": [
        {
          "output_type": "execute_result",
          "data": {
            "text/plain": [
              "array([[ 0,  1,  2],\n",
              "       [ 6,  7,  8],\n",
              "       [12, 13, 14]])"
            ]
          },
          "metadata": {},
          "execution_count": 62
        }
      ],
      "source": [
        "r2 = r[:3,:3]\n",
        "r2"
      ]
    },
    {
      "cell_type": "markdown",
      "metadata": {
        "id": "vm-Ru13sz2kK"
      },
      "source": [
        "<br>\n",
        "Si ponemos los valores de esta selección a cero, usando [:] que selecciona todas los valores, entonces..."
      ]
    },
    {
      "cell_type": "code",
      "execution_count": 63,
      "metadata": {
        "id": "Hy0xbvATz2kK",
        "outputId": "58327825-26f7-4add-f465-5c11831829b0",
        "colab": {
          "base_uri": "https://localhost:8080/"
        }
      },
      "outputs": [
        {
          "output_type": "execute_result",
          "data": {
            "text/plain": [
              "array([[0, 0, 0],\n",
              "       [0, 0, 0],\n",
              "       [0, 0, 0]])"
            ]
          },
          "metadata": {},
          "execution_count": 63
        }
      ],
      "source": [
        "r2[:] = 0\n",
        "r2"
      ]
    },
    {
      "cell_type": "markdown",
      "metadata": {
        "id": "R2DMGi05z2kK"
      },
      "source": [
        "<br>\n",
        "La selección de elementos no hace copia, sino que usa el mismo espacio en memoria. Por tanto...\n",
        "\n",
        "¡¡¡Habrá cambiado también `r`!!!"
      ]
    },
    {
      "cell_type": "code",
      "execution_count": 64,
      "metadata": {
        "id": "2N1ifDLRz2kK",
        "outputId": "eae20c15-fee1-482b-a5f7-507da0cad19b",
        "colab": {
          "base_uri": "https://localhost:8080/"
        }
      },
      "outputs": [
        {
          "output_type": "execute_result",
          "data": {
            "text/plain": [
              "array([[ 0,  0,  0,  3,  4,  5],\n",
              "       [ 0,  0,  0,  9, 10, 11],\n",
              "       [ 0,  0,  0, 15, 16, 17],\n",
              "       [18, 19, 20, 21, 22, 23],\n",
              "       [24, 25, 26, 27, 28, 29],\n",
              "       [30,  0,  0,  0,  0,  0]])"
            ]
          },
          "metadata": {},
          "execution_count": 64
        }
      ],
      "source": [
        "r"
      ]
    },
    {
      "cell_type": "markdown",
      "metadata": {
        "id": "w2eW-Uq6z2kK"
      },
      "source": [
        "<br>\n",
        "Para evitar esto debemos usar `r.copy` que creará una copia de la selección, de forma que estemos manejando (ahora sí) dos arrays independientes."
      ]
    },
    {
      "cell_type": "code",
      "execution_count": 65,
      "metadata": {
        "id": "84xpqb9ez2kK",
        "outputId": "64a28605-81b1-48aa-85dd-ff92a1eca8e1",
        "colab": {
          "base_uri": "https://localhost:8080/"
        }
      },
      "outputs": [
        {
          "output_type": "execute_result",
          "data": {
            "text/plain": [
              "array([[ 0,  0,  0,  3,  4,  5],\n",
              "       [ 0,  0,  0,  9, 10, 11],\n",
              "       [ 0,  0,  0, 15, 16, 17],\n",
              "       [18, 19, 20, 21, 22, 23],\n",
              "       [24, 25, 26, 27, 28, 29],\n",
              "       [30,  0,  0,  0,  0,  0]])"
            ]
          },
          "metadata": {},
          "execution_count": 65
        }
      ],
      "source": [
        "r_copy = r.copy()\n",
        "r_copy"
      ]
    },
    {
      "cell_type": "markdown",
      "metadata": {
        "id": "AGkM0qwbz2kL"
      },
      "source": [
        "<br>\n",
        "Ahora podemos modificar r_copy y r no cambiará."
      ]
    },
    {
      "cell_type": "code",
      "execution_count": 66,
      "metadata": {
        "id": "ToLCw2hhz2kL",
        "outputId": "3deb09b3-620c-4a31-a7e9-6d763c434dd3",
        "colab": {
          "base_uri": "https://localhost:8080/"
        }
      },
      "outputs": [
        {
          "output_type": "stream",
          "name": "stdout",
          "text": [
            "[[10 10 10 10 10 10]\n",
            " [10 10 10 10 10 10]\n",
            " [10 10 10 10 10 10]\n",
            " [10 10 10 10 10 10]\n",
            " [10 10 10 10 10 10]\n",
            " [10 10 10 10 10 10]] \n",
            "\n",
            "[[ 0  0  0  3  4  5]\n",
            " [ 0  0  0  9 10 11]\n",
            " [ 0  0  0 15 16 17]\n",
            " [18 19 20 21 22 23]\n",
            " [24 25 26 27 28 29]\n",
            " [30  0  0  0  0  0]]\n"
          ]
        }
      ],
      "source": [
        "r_copy[:] = 10\n",
        "print(r_copy, '\\n')\n",
        "print(r)"
      ]
    },
    {
      "cell_type": "markdown",
      "metadata": {
        "id": "S0LxdeGiz2kL"
      },
      "source": [
        "## Iteracion en arrays"
      ]
    },
    {
      "cell_type": "markdown",
      "metadata": {
        "id": "nty9jEkXz2kL"
      },
      "source": [
        "Creamos un array de 4 x 3 con números aleatorios de 0-9."
      ]
    },
    {
      "cell_type": "code",
      "execution_count": 67,
      "metadata": {
        "id": "qoQi4BUSz2kL",
        "outputId": "af7e9eee-b12e-4bb7-b838-2cba04e15fd6",
        "colab": {
          "base_uri": "https://localhost:8080/"
        }
      },
      "outputs": [
        {
          "output_type": "execute_result",
          "data": {
            "text/plain": [
              "array([[6, 1, 7],\n",
              "       [0, 4, 8],\n",
              "       [7, 4, 1],\n",
              "       [4, 1, 2]])"
            ]
          },
          "metadata": {},
          "execution_count": 67
        }
      ],
      "source": [
        "test = np.random.randint(0, 10, (4,3))\n",
        "test"
      ]
    },
    {
      "cell_type": "markdown",
      "metadata": {
        "id": "St5fjd3hz2kL"
      },
      "source": [
        "<br>\n",
        "Iterar por filas, lo podemos hacer de forma directa como sigue (observa que puedes poner cualquier palabra para iterar)"
      ]
    },
    {
      "cell_type": "code",
      "execution_count": 68,
      "metadata": {
        "id": "MIZb3Wu-z2kL",
        "outputId": "8451d486-f0d1-4928-9b00-3d792baaa395",
        "colab": {
          "base_uri": "https://localhost:8080/"
        }
      },
      "outputs": [
        {
          "output_type": "stream",
          "name": "stdout",
          "text": [
            "[6 1 7]\n",
            "[0 4 8]\n",
            "[7 4 1]\n",
            "[4 1 2]\n"
          ]
        }
      ],
      "source": [
        "for fila in test:\n",
        "    print(fila)"
      ]
    },
    {
      "cell_type": "markdown",
      "metadata": {
        "id": "J_upv1A3z2kL"
      },
      "source": [
        "<br>\n",
        "De hecho podemos iterar también un array unidimeensional de la misma forma\n"
      ]
    },
    {
      "cell_type": "code",
      "execution_count": 69,
      "metadata": {
        "id": "ywhKVaWTz2kL",
        "outputId": "4adc5989-a401-4b62-9651-11ef34f96222",
        "colab": {
          "base_uri": "https://localhost:8080/"
        }
      },
      "outputs": [
        {
          "output_type": "stream",
          "name": "stdout",
          "text": [
            "6\n",
            "1\n",
            "7\n",
            "0\n",
            "4\n",
            "8\n",
            "7\n",
            "4\n",
            "1\n",
            "4\n",
            "1\n",
            "2\n"
          ]
        }
      ],
      "source": [
        "for fila in test:\n",
        "    for elemento in fila:\n",
        "        print(elemento)"
      ]
    },
    {
      "cell_type": "markdown",
      "metadata": {
        "id": "JzS2ZBLwz2kM"
      },
      "source": [
        "<br>\n",
        "Podemos iterar usando el índice de la fila o de la columna. \n",
        "\n",
        "Para ello necesitamos saber el número de filas o columnas totales, que lo podemos obtener con `np.size()`\n"
      ]
    },
    {
      "cell_type": "code",
      "execution_count": 70,
      "metadata": {
        "id": "u1e4lAqcz2kM",
        "outputId": "dfabf9b5-91eb-47af-acbf-21bb3b27417d",
        "colab": {
          "base_uri": "https://localhost:8080/"
        }
      },
      "outputs": [
        {
          "output_type": "stream",
          "name": "stdout",
          "text": [
            "[6 1 7]\n",
            "[0 4 8]\n",
            "[7 4 1]\n",
            "[4 1 2]\n"
          ]
        }
      ],
      "source": [
        "for f in range(np.size(test, 0)):\n",
        "    print(test[f])"
      ]
    },
    {
      "cell_type": "code",
      "execution_count": 71,
      "metadata": {
        "id": "SYY5dII-z2kM",
        "outputId": "41fd34e5-4b82-42a9-822c-c06f152157b5",
        "colab": {
          "base_uri": "https://localhost:8080/"
        }
      },
      "outputs": [
        {
          "output_type": "stream",
          "name": "stdout",
          "text": [
            "[6 1 7]\n",
            "[0 4 8]\n",
            "[7 4 1]\n",
            "[4 1 2]\n"
          ]
        }
      ],
      "source": [
        "# Equivalente a la anterior, pero usando notación más clara\n",
        "for f in range(np.size(test, 0)):\n",
        "    print(test[f, :])"
      ]
    },
    {
      "cell_type": "code",
      "execution_count": 72,
      "metadata": {
        "id": "lAwBxk0Mz2kM",
        "outputId": "e1371faa-51e6-4f97-dc03-5bae96a30df7",
        "colab": {
          "base_uri": "https://localhost:8080/"
        }
      },
      "outputs": [
        {
          "output_type": "stream",
          "name": "stdout",
          "text": [
            "[6 0 7 4]\n",
            "[1 4 4 1]\n",
            "[7 8 1 2]\n"
          ]
        }
      ],
      "source": [
        "for c in range(np.size(test, 1)):\n",
        "    print(test[:, c])"
      ]
    },
    {
      "cell_type": "markdown",
      "metadata": {
        "id": "egjYfcWRz2kM"
      },
      "source": [
        "También podemos iterar usando `enumerate`, que nos da la fila y el índice de la fila"
      ]
    },
    {
      "cell_type": "code",
      "execution_count": 73,
      "metadata": {
        "id": "goE9y48az2kM",
        "outputId": "7f1bddaa-3f21-4e2d-91f0-bb1ffe65ccfa",
        "colab": {
          "base_uri": "https://localhost:8080/"
        }
      },
      "outputs": [
        {
          "output_type": "stream",
          "name": "stdout",
          "text": [
            "fila 0 es [6 1 7]\n",
            "fila 1 es [0 4 8]\n",
            "fila 2 es [7 4 1]\n",
            "fila 3 es [4 1 2]\n"
          ]
        }
      ],
      "source": [
        "for i, fila in enumerate(test):\n",
        "    print('fila', i, 'es', fila)"
      ]
    },
    {
      "cell_type": "markdown",
      "metadata": {
        "id": "BUuh7CJyz2kM"
      },
      "source": [
        "<br>\n",
        "Podemos usar `zip` para iterar sobre múltiples iterables."
      ]
    },
    {
      "cell_type": "code",
      "execution_count": 74,
      "metadata": {
        "id": "_8YuxLadz2kM",
        "outputId": "89949aaf-f8bb-40e3-ecd9-646e36c006e3",
        "colab": {
          "base_uri": "https://localhost:8080/"
        }
      },
      "outputs": [
        {
          "output_type": "execute_result",
          "data": {
            "text/plain": [
              "array([[36,  1, 49],\n",
              "       [ 0, 16, 64],\n",
              "       [49, 16,  1],\n",
              "       [16,  1,  4]])"
            ]
          },
          "metadata": {},
          "execution_count": 74
        }
      ],
      "source": [
        "test2 = test**2\n",
        "test2"
      ]
    },
    {
      "cell_type": "code",
      "execution_count": 75,
      "metadata": {
        "id": "Vhji823kz2kM",
        "outputId": "7ad03cd7-ed8b-490c-88dd-eb798da51c63",
        "colab": {
          "base_uri": "https://localhost:8080/"
        }
      },
      "outputs": [
        {
          "output_type": "stream",
          "name": "stdout",
          "text": [
            "[6 1 7] + [36  1 49] = [42  2 56]\n",
            "[0 4 8] + [ 0 16 64] = [ 0 20 72]\n",
            "[7 4 1] + [49 16  1] = [56 20  2]\n",
            "[4 1 2] + [16  1  4] = [20  2  6]\n"
          ]
        }
      ],
      "source": [
        "for i, j in zip(test, test2):\n",
        "    print(i,'+',j,'=',i+j)"
      ]
    }
  ],
  "metadata": {
    "kernelspec": {
      "display_name": "Python 3",
      "language": "python",
      "name": "python3"
    },
    "language_info": {
      "codemirror_mode": {
        "name": "ipython",
        "version": 3
      },
      "file_extension": ".py",
      "mimetype": "text/x-python",
      "name": "python",
      "nbconvert_exporter": "python",
      "pygments_lexer": "ipython3",
      "version": "3.8.12"
    },
    "colab": {
      "provenance": []
    }
  },
  "nbformat": 4,
  "nbformat_minor": 0
}